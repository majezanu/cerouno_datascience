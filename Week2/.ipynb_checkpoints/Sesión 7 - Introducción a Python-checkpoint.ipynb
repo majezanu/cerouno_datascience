{
 "cells": [
  {
   "cell_type": "markdown",
   "metadata": {},
   "source": [
    "## Sesión 7 - Estructurando el código\n",
    "\n",
    "Imaginemos que tenemos que hacer una cierta operación múltiples veces dentro de nuestro código o esta operación se realizará en algunos otros programas. Para ayudarnos a segmentar nuestro código, podemos usar funciones y módulos para simplificarnos la vida.\n",
    "\n",
    "5.1 Funciones\n",
    "Hoy vamos a aprender sobre funciones. En términos informáticos, las funciones se conocen como subrutinas. Una subrutina se define como una secuencia de instrucciones que realizan una tarea específica, agrupadas como una unidad, es decir, un pequeño fragmento de código independiente. Antes de hablar sobre cómo definir y usar funciones, es importante saber por qué queremos usarlas.\n",
    "\n",
    "Nuestra primera razón para usar funciones es la reutilización. Se deriva de una metodología llamada Don't Repeat Yourself (DRY para abreviar). Esta metodología se reduce a la idea de que queremos ser lo más concisos posible al escribir código: no queremos escribir instrucciones innecesarias y queremos evitar repetir las mismas o similares instrucciones una y otra vez. Las funciones nos permiten lograr este objetivo al brindarnos una herramienta que podemos usar para envolver un conjunto de instrucciones en una sola unidad independiente. Esa unidad independiente se puede utilizar para realizar una tarea específica una y otra vez, sin necesidad de reescribir esas instrucciones. Se escriben solo una vez, en la función."
   ]
  },
  {
   "cell_type": "code",
   "execution_count": 6,
   "metadata": {},
   "outputs": [
    {
     "name": "stdout",
     "output_type": "stream",
     "text": [
      "9\n"
     ]
    }
   ],
   "source": [
    "#Para recordar conceptos\n",
    "#Vamos a tomar el siguiente ejemplo.\n",
    "#Digamos que quisieramos guardar el área de un cuadrado varias veces, es decir,\n",
    "#que quisieramos calcular el área de diferentes cuadrados con diferentes tamaños en sus lados.\n",
    "\n",
    "area_cuadrado = 3*3 \n",
    "print(area_cuadrado)\n",
    "lista_area =[]\n",
    "lista_area.append(area_cuadrado)"
   ]
  },
  {
   "cell_type": "code",
   "execution_count": 7,
   "metadata": {},
   "outputs": [
    {
     "data": {
      "text/plain": [
       "[9]"
      ]
     },
     "execution_count": 7,
     "metadata": {},
     "output_type": "execute_result"
    }
   ],
   "source": [
    "#imprimir resultado\n",
    "lista_area"
   ]
  },
  {
   "cell_type": "code",
   "execution_count": 8,
   "metadata": {},
   "outputs": [
    {
     "name": "stdout",
     "output_type": "stream",
     "text": [
      "16\n"
     ]
    }
   ],
   "source": [
    "#Ahora un cuadrado que sus lados sean 4x4\n",
    "area_cuadrado =4*4\n",
    "print(area_cuadrado)\n",
    "lista_area.append(area_cuadrado)"
   ]
  },
  {
   "cell_type": "code",
   "execution_count": 9,
   "metadata": {},
   "outputs": [
    {
     "name": "stdout",
     "output_type": "stream",
     "text": [
      "25\n"
     ]
    }
   ],
   "source": [
    "#Ahora otro de 5x5\n",
    "area_cuadrado =5*5\n",
    "print(area_cuadrado)\n",
    "lista_area.append(area_cuadrado)"
   ]
  },
  {
   "cell_type": "code",
   "execution_count": 10,
   "metadata": {},
   "outputs": [
    {
     "data": {
      "text/plain": [
       "[9, 16, 25]"
      ]
     },
     "execution_count": 10,
     "metadata": {},
     "output_type": "execute_result"
    }
   ],
   "source": [
    "lista_area"
   ]
  },
  {
   "cell_type": "markdown",
   "metadata": {},
   "source": [
    "Entonces si se fijan, estamos haciendo la misma operación, muchas veces, con diferentes inputs. En este caso el input sería el valor del lado del cuadrado."
   ]
  },
  {
   "cell_type": "markdown",
   "metadata": {},
   "source": [
    "La segunda razón por la que queremos usar funciones es la abstracción. Considere la función type () que hemos usado. Para usarlo necesitábamos saber:\n",
    "\n",
    "1. Cuál es la función, es decir, su nombre\n",
    "2. Lo que la función espera que le pase, es decir, los argumentos\n",
    "3. ¿Qué hace la función?\n",
    "4. Lo que la función nos devuelve, es decir, devuelve\n",
    "\n",
    "Eso es todo lo que sabíamos sobre type (), y lo usamos sin ningún problema. La conclusión clave aquí es que no necesitamos saber nada sobre cómo type () hace lo que dice que se supone que debe hacer. Esta es la idea de la abstracción: la implementación dentro de una función está oculta para la persona que llama (abstraída, si lo desea). Hay varias razones por las cuales este rasgo es deseable.\n",
    "\n",
    "Primero, permite a los llamadores de la función no preocuparse por cómo funciona la función en sí. Por el contrario, se mantienen seguros asumiendo que la función funcionará (sepa, sin embargo, que esta suposición no siempre es cierta, en cuyo caso tendrá que resolver sus propios problemas). Esto permite que la funcionalidad se comparta fácilmente y facilita la creación de cosas más complejas. Mediante el uso de funciones que otras personas han creado, puede pararse sobre sus hombros y crear programas más complejos.\n",
    "\n",
    "En segundo lugar, dado que la implementación está oculta para la persona que llama, esa implementación real puede cambiar (siempre y cuando las cuatro cosas enumeradas anteriormente permanezcan iguales) y la persona que llama no notará la diferencia. Esto facilita la división de los problemas en piezas más pequeñas, y cuando algo en una de esas piezas necesita cambiar, no afectará al resto de las piezas.\n",
    "\n",
    "\n",
    "\n",
    "\n",
    "#### Definiciones de funciones: Parte 1\n",
    "\n",
    "Lo primero que vamos a descubrir es cómo definir funciones. Para construir esto, echemos un vistazo al siguiente código que la idea es que nos guarde en una lista los valores pares.\n",
    "\n",
    "```python\n",
    "pares = []\n",
    "para elemento en datos:\n",
    "     si el elemento% 2 == 0:\n",
    "         pares.append (elemento)\n",
    "```\n",
    "\n",
    "Ahora, imaginemos que `datos` es en realidad solo una lista de números del 0 al 9 (es decir,` [0, 1, 2, 3, 4, 5, 6, 7, 8, 9] `). Recuerde, podemos usar la función `range ()` para crear esta lista. Para obtener una lista de todos los números pares del 0 al 9, podemos modificar nuestro código de la siguiente manera."
   ]
  },
  {
   "cell_type": "code",
   "execution_count": 11,
   "metadata": {},
   "outputs": [
    {
     "name": "stdout",
     "output_type": "stream",
     "text": [
      "0\n",
      "1\n",
      "2\n",
      "3\n",
      "4\n",
      "5\n",
      "6\n",
      "7\n",
      "8\n",
      "9\n"
     ]
    }
   ],
   "source": [
    "#Ejemplo sin usar el range\n",
    "for i in [0, 1, 2, 3, 4, 5, 6, 7, 8, 9]:\n",
    "    print(i)"
   ]
  },
  {
   "cell_type": "code",
   "execution_count": 12,
   "metadata": {},
   "outputs": [
    {
     "name": "stdout",
     "output_type": "stream",
     "text": [
      "0\n",
      "2\n",
      "4\n",
      "6\n",
      "8\n"
     ]
    }
   ],
   "source": [
    "#Ahora obteniendo los valores pares\n",
    "for i in [0, 1, 2, 3, 4, 5, 6, 7, 8, 9]:\n",
    "    if i%2 ==0:\n",
    "        print(i)"
   ]
  },
  {
   "cell_type": "code",
   "execution_count": 13,
   "metadata": {},
   "outputs": [
    {
     "name": "stdout",
     "output_type": "stream",
     "text": [
      "[0, 2, 4, 6, 8]\n"
     ]
    }
   ],
   "source": [
    "#Ahora guardaremos los valores en una lista\n",
    "pares = []\n",
    "\n",
    "for i in [0, 1, 2, 3, 4, 5, 6, 7, 8, 9]:\n",
    "    if i % 2 == 0:\n",
    "        pares.append(i)\n",
    "print(pares)"
   ]
  },
  {
   "cell_type": "code",
   "execution_count": 14,
   "metadata": {},
   "outputs": [
    {
     "name": "stdout",
     "output_type": "stream",
     "text": [
      "[0, 2, 4, 6, 8]\n"
     ]
    }
   ],
   "source": [
    "#Ahora guardaremos los valores en una lista y utilizaremos en range para crear la lista\n",
    "\n",
    "pares = []\n",
    "\n",
    "for i in range(10):\n",
    "    if i % 2 == 0:\n",
    "        pares.append(i)\n",
    "print(pares)"
   ]
  },
  {
   "cell_type": "markdown",
   "metadata": {},
   "source": [
    "### Estructura de una función\n",
    "Siempre una función sera construida de la siguiente manera:\n",
    "\n",
    "def nombre(parámetros): \n",
    "Cuerpo de la función \n",
    "return objeto \n",
    "\n",
    "**def** indica que estamos creando una función\n",
    "\n",
    "**nombre** sera el nombre que usaremos para llamar la función más adelante nuestro código\n",
    "\n",
    "**parámetros** entradas necesarias para que nuestro código realice ciertas operaciones\n",
    "\n",
    "**Cuerpo** Aquí se especifica que las acciones a realizar con los parámetros\n",
    "\n",
    "**return** Devuelve el objeto que se indica para poder ser usado en nuestro código"
   ]
  },
  {
   "cell_type": "markdown",
   "metadata": {},
   "source": [
    "Ejemplos de funciones que ya conocemos:\n",
    "1. type()\n",
    "2. len()\n",
    "3. range()"
   ]
  },
  {
   "cell_type": "markdown",
   "metadata": {},
   "source": [
    "#### Entonces la definición de una función quedaría asi:\n",
    "```python\n",
    "def nombre_funcion(parametros):\n",
    "    if condicion:\n",
    "        pass\n",
    "``` \n",
    "\n",
    "o podría bien ser de la siguiente manera:\n",
    "\n",
    "```python\n",
    "def nombre_funcion(parametros):\n",
    "    if condicion:\n",
    "        pass\n",
    "    return valor\n",
    "``` "
   ]
  },
  {
   "cell_type": "code",
   "execution_count": 16,
   "metadata": {},
   "outputs": [],
   "source": [
    "##Ahora vamos a crear nuestra primer funcion con las operaciones anteriores:\n",
    "def obtener_pares(): \n",
    "    pares = []\n",
    "    for elemento in range(11): \n",
    "        if elemento % 2 == 0: \n",
    "            pares.append(elemento)\n",
    "    return pares\n",
    "  #   print(pares)"
   ]
  },
  {
   "cell_type": "code",
   "execution_count": 17,
   "metadata": {},
   "outputs": [
    {
     "name": "stdout",
     "output_type": "stream",
     "text": [
      "[0, 2, 4, 6, 8, 10]\n"
     ]
    }
   ],
   "source": [
    "#Vamos a mandar a llamar la función\n",
    "\n",
    "print(obtener_pares())"
   ]
  },
  {
   "cell_type": "markdown",
   "metadata": {},
   "source": [
    "### Ejercicios en Clase para prácticar"
   ]
  },
  {
   "cell_type": "markdown",
   "metadata": {},
   "source": [
    "1. Reescribe la función obtener_pares()\n",
    "2. Modifica la función de modo que ahora en lugar de regresar pares del 0 al 8, nos regrese los números pares del 0 al 20.\n",
    "3. Modifica la función para que ahora nos regrese los multiplos de 3.\n",
    "4. Manda a llamar la funcion que acaba de crear"
   ]
  },
  {
   "cell_type": "code",
   "execution_count": null,
   "metadata": {},
   "outputs": [],
   "source": []
  },
  {
   "cell_type": "markdown",
   "metadata": {},
   "source": [
    "Ahora vamos a revisar las siguientes funciones:"
   ]
  },
  {
   "cell_type": "code",
   "execution_count": 18,
   "metadata": {},
   "outputs": [],
   "source": [
    "#Ejercicio 2: Función que calcula el área de un círculo al ingresar el radio de éste\n",
    "def area_circulo(radio): \n",
    "    A=3.141592654*radio**2\n",
    "   # print('El área es igual a ',A )\n",
    "    #print('El área es igual a '+ str(A) )\n",
    "    return A"
   ]
  },
  {
   "cell_type": "code",
   "execution_count": 19,
   "metadata": {},
   "outputs": [
    {
     "name": "stdout",
     "output_type": "stream",
     "text": [
      "Area circulo 12.566370616\n"
     ]
    }
   ],
   "source": [
    "#Asignamos el valor a una variable \n",
    "K='Area circulo ' + str(area_circulo(2))\n",
    "print(K)"
   ]
  },
  {
   "cell_type": "code",
   "execution_count": 20,
   "metadata": {},
   "outputs": [
    {
     "name": "stdout",
     "output_type": "stream",
     "text": [
      "615.752160184\n"
     ]
    }
   ],
   "source": [
    "otro_circurlo = area_circulo(14)\n",
    "\n",
    "#Imprimimos el valor asignado a la variable\n",
    "print(otro_circurlo) "
   ]
  },
  {
   "cell_type": "code",
   "execution_count": 21,
   "metadata": {},
   "outputs": [],
   "source": [
    "#Generar una función que calcule el área de un triangulo\n",
    "#Mandar a llamar la función"
   ]
  },
  {
   "cell_type": "markdown",
   "metadata": {},
   "source": [
    "### Ejercicios en Clase para prácticar"
   ]
  },
  {
   "cell_type": "markdown",
   "metadata": {},
   "source": [
    "Para los siguientes ejercicios , resolverlos generando una función\n",
    "\n",
    "1. Escribe una función que nos diga cuantos refrescos quedan en la nevera\n",
    "2. Imprimir un saludo al nombre que el usuario ingrese\n",
    "3. Encuentra todos los divisores del número que ingrese el usuario\n",
    "4. Crea una función que imprima si quedan refrescos en la nevera\n",
    "5. Calcula la suma de todos los números ingresados en una lista\n",
    "6. Genera una función que te regrese el producto de todos los números de una lista\n",
    "7. Crea una función que te regrese la longitud de un string\n",
    "8. Crea una función que te calcule el factorial del número que ingreses"
   ]
  },
  {
   "cell_type": "code",
   "execution_count": 4,
   "metadata": {},
   "outputs": [
    {
     "name": "stdout",
     "output_type": "stream",
     "text": [
      "9\n"
     ]
    }
   ],
   "source": [
    "def sum(numbers = []):\n",
    "    value = 0\n",
    "    for number in numbers:\n",
    "        value = value + number\n",
    "        \n",
    "    return value\n",
    "print(sum([2,3,4]))"
   ]
  },
  {
   "cell_type": "code",
   "execution_count": 10,
   "metadata": {},
   "outputs": [
    {
     "name": "stdout",
     "output_type": "stream",
     "text": [
      "0\n"
     ]
    }
   ],
   "source": [
    "# Genera una función que te regrese el producto de todos los números de una lista\n",
    "def multiply(numbers = []):\n",
    "    val = numbers[0]\n",
    "    for number in numbers:\n",
    "        val = val * number\n",
    "    return val\n",
    "print(multiply([1,2,3]))"
   ]
  }
 ],
 "metadata": {
  "kernelspec": {
   "display_name": "Python 3",
   "language": "python",
   "name": "python3"
  },
  "language_info": {
   "codemirror_mode": {
    "name": "ipython",
    "version": 3
   },
   "file_extension": ".py",
   "mimetype": "text/x-python",
   "name": "python",
   "nbconvert_exporter": "python",
   "pygments_lexer": "ipython3",
   "version": "3.7.6"
  }
 },
 "nbformat": 4,
 "nbformat_minor": 2
}
