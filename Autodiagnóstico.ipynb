{
  "nbformat": 4,
  "nbformat_minor": 0,
  "metadata": {
    "colab": {
      "name": "Autodiagnóstico.ipynb",
      "provenance": [],
      "collapsed_sections": [
        "6UuF0oENDpYa"
      ],
      "include_colab_link": true
    },
    "kernelspec": {
      "display_name": "Python 3",
      "language": "python",
      "name": "python3"
    },
    "language_info": {
      "codemirror_mode": {
        "name": "ipython",
        "version": 3
      },
      "file_extension": ".py",
      "mimetype": "text/x-python",
      "name": "python",
      "nbconvert_exporter": "python",
      "pygments_lexer": "ipython3",
      "version": "3.7.4"
    }
  },
  "cells": [
    {
      "cell_type": "markdown",
      "metadata": {
        "id": "view-in-github",
        "colab_type": "text"
      },
      "source": [
        "<a href=\"https://colab.research.google.com/github/majezanu/cerouno_datascience/blob/master/Autodiagn%C3%B3stico.ipynb\" target=\"_parent\"><img src=\"https://colab.research.google.com/assets/colab-badge.svg\" alt=\"Open In Colab\"/></a>"
      ]
    },
    {
      "cell_type": "markdown",
      "metadata": {
        "colab_type": "text",
        "id": "6UuF0oENDpYa"
      },
      "source": [
        "# Autodiagnóstico"
      ]
    },
    {
      "cell_type": "markdown",
      "metadata": {
        "id": "rDGKOLMJj2Gu",
        "colab_type": "text"
      },
      "source": [
        "# Objetivos Particulares: \n",
        "\n",
        "* Refrescar conceptos aprendidos con Introducción a Python\n",
        "* Medir el conocimiento obtenido en la semana actual"
      ]
    },
    {
      "cell_type": "markdown",
      "metadata": {
        "id": "O8XTnn_3j2Gy",
        "colab_type": "text"
      },
      "source": [
        "# Agenda"
      ]
    },
    {
      "cell_type": "markdown",
      "metadata": {
        "colab_type": "text",
        "id": "BavbEpheCrO8"
      },
      "source": [
        "# 1. Autodiagnóstico Introducción a Python"
      ]
    },
    {
      "cell_type": "markdown",
      "metadata": {
        "id": "5rUgmu_oj2G6",
        "colab_type": "text"
      },
      "source": [
        "## 1.1 Objetivos:\n",
        "* Autoevaluar los conceptos aprendidos en las primeras semanas del curso.\n",
        "* Observar la velocidad de procesamiento de los diferentes ejercicios.\n",
        "* Contar con un punto de comparación de Python y NumPy en el análisis de datos."
      ]
    },
    {
      "cell_type": "markdown",
      "metadata": {
        "id": "_9heAGfLj2G8",
        "colab_type": "text"
      },
      "source": [
        "### Conceptos de apoyo:\n",
        "- [Declaración de variables](https://www.pythonforbeginners.com/basics/python-variables)\n",
        "- [Tipo de datos](https://pythonista.io/cursos/py101/tipos-de-datos-basicos-y-operadores)\n",
        "- [Ciclos en Python](https://realpython.com/python-for-loop/) , [Video: For loops](https://www.youtube.com/watch?v=OnDr4J2UXSA)\n",
        "- [Importar una librería](https://www.digitalocean.com/community/tutorials/how-to-import-modules-in-python-3)\n",
        "- [Uso de librería random](https://pynative.com/python-random-module/)"
      ]
    },
    {
      "cell_type": "markdown",
      "metadata": {
        "colab_type": "text",
        "id": "pCq2oJ3UYeJn"
      },
      "source": [
        "## 1.1 Ejercicios"
      ]
    },
    {
      "cell_type": "markdown",
      "metadata": {
        "id": "5RHKYBiyj2HF",
        "colab_type": "text"
      },
      "source": [
        "#### Importar libreria generadora de numeros aleatorios"
      ]
    },
    {
      "cell_type": "code",
      "metadata": {
        "id": "puN8ajjzj2HH",
        "colab_type": "code",
        "colab": {}
      },
      "source": [
        "import numpy as np\n",
        "from numpy import random"
      ],
      "execution_count": 0,
      "outputs": []
    },
    {
      "cell_type": "markdown",
      "metadata": {
        "id": "PxrA0h4hj2HZ",
        "colab_type": "text"
      },
      "source": [
        "#### Definir variable *rnd_number* de tipo *float* y asignar a *rnd_number* el valor de un número aleatorio uniformemente distribuido entre [-1,1]"
      ]
    },
    {
      "cell_type": "code",
      "metadata": {
        "id": "e0CTg1Ruj2Hb",
        "colab_type": "code",
        "colab": {
          "base_uri": "https://localhost:8080/",
          "height": 34
        },
        "outputId": "8fd875ff-ea95-4a1f-aaad-068815d676d7"
      },
      "source": [
        "rnd_number = random.uniform(-1,1)\n",
        "print(rnd_number)"
      ],
      "execution_count": 15,
      "outputs": [
        {
          "output_type": "stream",
          "text": [
            "-0.16935466961128043\n"
          ],
          "name": "stdout"
        }
      ]
    },
    {
      "cell_type": "markdown",
      "metadata": {
        "id": "E3ZXeLiXj2Hl",
        "colab_type": "text"
      },
      "source": [
        "#### Declarar *rnd_vector* de tipo *list* con 100 numeros aleatorios distribuidos uniformemente entre [-1,1]"
      ]
    },
    {
      "cell_type": "code",
      "metadata": {
        "id": "IcQbcVvjj2Hm",
        "colab_type": "code",
        "outputId": "6145a3b3-9ab2-4616-9906-e93dbffc5451",
        "colab": {
          "base_uri": "https://localhost:8080/",
          "height": 54
        }
      },
      "source": [
        "rnd_vector = random.uniform(-1,1, size=100).tolist()\n",
        "print(rnd_vector)"
      ],
      "execution_count": 23,
      "outputs": [
        {
          "output_type": "stream",
          "text": [
            "[-0.7323987995083041, -0.2786940957620916, -0.6979984100385594, 0.5290230898519395, -0.6851392839544539, 0.7630245462128546, -0.44452396555969, 0.09572041535726594, 0.5647457377128842, -0.9260442996122635, 0.5666846926764306, 0.1283312177236713, 0.46941129901541934, -0.3958210426891886, -0.3709472093598034, 0.6763561319620581, 0.22262541949487447, 0.8384715861682195, 0.5738022037899975, -0.1446737541428189, 0.4716465923400046, -0.8186535904954282, -0.4616097284288265, 0.11493736710886471, -0.9214675586495664, 0.5196838785827742, -0.2190199577885903, -0.15166027186561082, 0.1767158834802709, 0.7931413220186472, 0.09662940902729922, 0.8325877546583518, 0.16476757471434778, 0.039042423878330235, -0.7058728619665025, 0.9363206612225046, -0.2764109565619448, -0.579319803347573, 0.844922071937205, -0.36625816475785533, 0.3295689393058501, 0.9873251775905179, -0.051887894039500226, -0.9065424706971326, 0.06291016349446288, -0.21805473158629995, 0.5941816735215197, -0.7797561874620536, 0.5282772240778384, -0.8996787213365116, 0.5218338772343216, 0.5854273851561898, 0.9176007441149407, 0.7245668826286338, -0.22685549641194647, -0.1401977550235931, 0.27825451958460024, -0.9169367764531948, 0.893493422047118, 0.0772170026971788, 0.704142286869966, -0.9017958857467561, -0.31795813217007884, -0.8242731461437345, -0.7566267300226623, 0.1605134296100208, 0.5312566962525715, 0.057501720055149086, 0.04014123641651657, -0.7153023905888991, -0.7665029070427003, -0.5796485521738175, -0.054975524175576496, 0.48175226505806323, -0.6375488256376018, 0.05015847993077527, 0.48393646851669425, -0.9316918423876448, -0.38174720816088437, 0.3951964581988394, -0.6308392466818709, -0.6108468620769996, 0.7733752781446581, 0.25152888395796014, 0.05175334433613954, 0.31131693636044977, 0.805103402595942, 0.2418135001782744, -0.6007449336523749, 0.5980460792492197, 0.49132555244087395, 0.35129424400950193, -0.49551048764649086, 0.3560806403863368, 0.1288465888028134, 0.26999647055442066, -0.3768133780682297, 0.14367180663646129, 0.7732451307098134, 0.5022440839241264]\n"
          ],
          "name": "stdout"
        }
      ]
    },
    {
      "cell_type": "markdown",
      "metadata": {
        "id": "lJS6hoWWj2Hz",
        "colab_type": "text"
      },
      "source": [
        "#### Declarar la variable *rnd_mult* y asignar el valor de multiplicar *rnd_number* por *r_vector*\n",
        "* Pregunta: ¿Qué tipo de dato será *rnd_mult*? Una lista de lista cada elemento será de tipo *float*"
      ]
    },
    {
      "cell_type": "code",
      "metadata": {
        "id": "Vr6bq78Yj2H0",
        "colab_type": "code",
        "colab": {
          "base_uri": "https://localhost:8080/",
          "height": 185
        },
        "outputId": "c29b4482-cb9e-4b4c-8db6-f67dc3d15481"
      },
      "source": [
        "rnd_mult = rnd_number * rnd_vector\n",
        "print(rnd_mult)"
      ],
      "execution_count": 24,
      "outputs": [
        {
          "output_type": "error",
          "ename": "TypeError",
          "evalue": "ignored",
          "traceback": [
            "\u001b[0;31m---------------------------------------------------------------------------\u001b[0m",
            "\u001b[0;31mTypeError\u001b[0m                                 Traceback (most recent call last)",
            "\u001b[0;32m<ipython-input-24-b9347e2c0ce5>\u001b[0m in \u001b[0;36m<module>\u001b[0;34m()\u001b[0m\n\u001b[0;32m----> 1\u001b[0;31m \u001b[0mrnd_mult\u001b[0m \u001b[0;34m=\u001b[0m \u001b[0mrnd_number\u001b[0m \u001b[0;34m*\u001b[0m \u001b[0mrnd_vector\u001b[0m\u001b[0;34m\u001b[0m\u001b[0;34m\u001b[0m\u001b[0m\n\u001b[0m\u001b[1;32m      2\u001b[0m \u001b[0mprint\u001b[0m\u001b[0;34m(\u001b[0m\u001b[0mrnd_mult\u001b[0m\u001b[0;34m)\u001b[0m\u001b[0;34m\u001b[0m\u001b[0;34m\u001b[0m\u001b[0m\n",
            "\u001b[0;31mTypeError\u001b[0m: can't multiply sequence by non-int of type 'float'"
          ]
        }
      ]
    },
    {
      "cell_type": "markdown",
      "metadata": {
        "id": "uEyoImRcj2H8",
        "colab_type": "text"
      },
      "source": [
        "#### Declarar *rnd_matrix*, asignar los valores de *rnd_mult* distribuidos en 10 filas y 10 columnas\n",
        "* Pregunta: ¿Cómo se verá la variable *rnd_matrix*? (Ejemplo) [[0.1,0.2,0.6],[1.2,9.1,0.3],[0.0,1.2,43.2]]\n",
        "* Pregunta: ¿A qué puede ser equivalente una lista de listas desde un punto de álgebra lineal? Matriz\n",
        "* Pregunta: ¿Qué tipo de dato será la variable *rnd_matrix*? Lista de listas"
      ]
    },
    {
      "cell_type": "code",
      "metadata": {
        "id": "F0Nt44mej2H_",
        "colab_type": "code",
        "outputId": "3867d63a-12f5-47b5-e3ef-8a769053fd27",
        "colab": {}
      },
      "source": [
        ""
      ],
      "execution_count": 0,
      "outputs": [
        {
          "output_type": "stream",
          "text": [
            "[[-0.13913549603653388, 0.039684663302873485, 0.05094877941872279, -0.036536441344872474, -0.1407883139275535, -0.09028980313572495, -0.1265497790915101, -0.04808079112242052, 0.2010332360062505, -0.07466721552062797], [0.027965991010521593, 0.1427323489093868, -0.07930403563066978, 0.040764765874949406, -0.028576731837724086, -0.10008305534113283, -0.12420926097111494, -0.15310395632787066, 0.02908281004345119, -0.11714108233124443], [-0.08123536173716117, 0.16017657656362858, -0.0907203321191127, 0.07264288872615159, -0.15972356741556462, -0.07305908144988658, -0.09739246339545639, 0.0879772963215009, -0.0009577829128055619, -0.13406571397365805], [0.20116827223470418, -0.07415545533843146, -0.09748738100353674, 0.1869251788571008, -0.1134957964470635, 0.15345176888519832, 0.1755839305922781, -0.09140044218368969, 0.15228088276299123, 0.007340629818660097], [0.044136562209934595, -0.03618030452256877, 0.1499841541990789, 0.013162020433915412, 0.183490159323795, -0.026450176517697512, 0.043836331836497155, -0.08974728670910513, -0.2173148767243331, -0.14655170388959934], [0.08380182447596245, -0.15078207179965783, -0.20032082772269247, -0.008001360759885487, 0.08015215767875647, -0.11592006691649975, 0.08642589455625539, -0.06292338419669587, 0.018478285578289184, 0.1261991353576716], [-0.12802107703620935, 0.1881215665648582, 0.21107130454976605, 0.05977624981682412, -0.039905696448020216, 0.15031629786448247, 0.13866610005043262, 0.21105412244596553, -0.13213944362349248, 0.13439618334235331], [0.21283939838896265, -0.12650961131959287, -0.1307796485236955, 0.007603469607368272, -0.1974508609954093, 0.09518190165560819, 0.2132178016716659, 0.15080818689577036, 0.12223683835003671, 0.050377126896582435], [-0.19530751576377045, 0.05912451704550273, 0.10992924231951719, -0.19219277304629967, -0.005346120880019314, -0.1751724037525452, 0.10287591731573548, 0.0878726084437164, 0.006843418576838382, 0.05699501832511107], [-0.04741067731010875, -0.0453834158272348, -0.10257925228870833, 0.050292442848267095, 0.015525046982689276, 0.11775109545259792, 0.05574158534188619, 0.12349861224215705, -0.08351112069026011, -0.04175749128361851]]\n"
          ],
          "name": "stdout"
        }
      ]
    },
    {
      "cell_type": "markdown",
      "metadata": {
        "id": "Grpcj2Rzj2IF",
        "colab_type": "text"
      },
      "source": [
        "#### Completar la función get_column_matrix(column=0) para obtener la columna *n* de *matrix*"
      ]
    },
    {
      "cell_type": "code",
      "metadata": {
        "id": "dmjjVa34j2IG",
        "colab_type": "code",
        "colab": {}
      },
      "source": [
        "# Elige una de las dos funciones, la que mejor comprendas\n",
        "def get_column_matrix(matrix=[], n=0):\n",
        "    return [matrix[i][¿QUE VALOR VA AQUI?] for i in matrix]\n",
        "\n",
        "def get_column_matrix(matrix=[], n=0):\n",
        "    column = []\n",
        "    # Operation\n",
        "    for row in matrix:\n",
        "        column.append(row[¿QUE VALOR VA AQUI?])\n",
        "    return column"
      ],
      "execution_count": 0,
      "outputs": []
    },
    {
      "cell_type": "markdown",
      "metadata": {
        "id": "74aAtUlfj2IR",
        "colab_type": "text"
      },
      "source": [
        "#### Definir la variable *n_column* y asignar el valor de la columna *n_column* de la matriz *rnd_matrix*\n",
        "\n",
        "- Donde *n_column* será generado por la librería random y deberá ser un valor entero entre [0,9]\n",
        "- Tip: Puede utilizar la función get_column_matrix creada previamente"
      ]
    },
    {
      "cell_type": "code",
      "metadata": {
        "id": "lA9dzir-j2IU",
        "colab_type": "code",
        "colab": {}
      },
      "source": [
        ""
      ],
      "execution_count": 0,
      "outputs": []
    },
    {
      "cell_type": "code",
      "metadata": {
        "id": "fxMaVDRYj2Ic",
        "colab_type": "code",
        "outputId": "8660174b-25f4-4305-a518-ae7e340234ef",
        "colab": {}
      },
      "source": [
        ""
      ],
      "execution_count": 0,
      "outputs": [
        {
          "output_type": "stream",
          "text": [
            "[-0.036536441344872474, 0.040764765874949406, 0.07264288872615159, 0.1869251788571008, 0.013162020433915412, -0.008001360759885487, 0.05977624981682412, 0.007603469607368272, -0.19219277304629967, 0.050292442848267095]\n"
          ],
          "name": "stdout"
        }
      ]
    },
    {
      "cell_type": "markdown",
      "metadata": {
        "id": "3U4TbPVTj2Ik",
        "colab_type": "text"
      },
      "source": [
        "#### Calcular la media de la variable *n_column*"
      ]
    },
    {
      "cell_type": "code",
      "metadata": {
        "colab_type": "code",
        "id": "jDfCI-2Yb6b3",
        "outputId": "d813c9f3-0ca6-4c19-93b5-e2155a2dfbd9",
        "colab": {
          "base_uri": "https://localhost:8080/",
          "height": 68
        }
      },
      "source": [
        ""
      ],
      "execution_count": 0,
      "outputs": [
        {
          "output_type": "stream",
          "text": [
            "La media es igual a 0.019443644101351906\n",
            "\n",
            "La media es igual a 0.019443644101351906\n"
          ],
          "name": "stdout"
        }
      ]
    },
    {
      "cell_type": "markdown",
      "metadata": {
        "id": "liPylKIlj2Iu",
        "colab_type": "text"
      },
      "source": [
        "#### Mostrar el valor máximo y mínimo de la 8va columna de *rnd_matrix*"
      ]
    },
    {
      "cell_type": "code",
      "metadata": {
        "id": "cFlnwk7Gj2Iw",
        "colab_type": "code",
        "colab": {}
      },
      "source": [
        ""
      ],
      "execution_count": 0,
      "outputs": []
    },
    {
      "cell_type": "code",
      "metadata": {
        "colab_type": "code",
        "id": "dJ0491OJb6DF",
        "outputId": "aa8dc429-29de-42b8-d399-6139805a42dc",
        "colab": {
          "base_uri": "https://localhost:8080/",
          "height": 34
        }
      },
      "source": [
        "\n"
      ],
      "execution_count": 0,
      "outputs": [
        {
          "output_type": "stream",
          "text": [
            "El valor máximo de la octava columna es 0.2010332360062505 mientras que el mínimo es -0.2173148767243331\n"
          ],
          "name": "stdout"
        }
      ]
    },
    {
      "cell_type": "markdown",
      "metadata": {
        "colab_type": "text",
        "id": "jW58niF6eWXg"
      },
      "source": [
        "####  Crea un vector del 1 al 5 y eleva a la potencia 3 cada elemento."
      ]
    },
    {
      "cell_type": "code",
      "metadata": {
        "colab_type": "code",
        "id": "fckda3XSeWkL",
        "outputId": "99fcac2f-d37b-44ea-9f60-31ff85ea92aa",
        "colab": {
          "base_uri": "https://localhost:8080/",
          "height": 68
        }
      },
      "source": [
        ""
      ],
      "execution_count": 0,
      "outputs": [
        {
          "output_type": "stream",
          "text": [
            "El vector es: [1, 2, 3, 4, 5]\n",
            "\n",
            "El vector es: [1, 8, 27, 64, 125]\n"
          ],
          "name": "stdout"
        }
      ]
    },
    {
      "cell_type": "markdown",
      "metadata": {
        "colab_type": "text",
        "id": "UMLihwiOeucZ"
      },
      "source": [
        "#### Calcula la raíz cuadrada de la lista anterior"
      ]
    },
    {
      "cell_type": "code",
      "metadata": {
        "colab_type": "code",
        "id": "LSy0U--8enuA",
        "outputId": "45539919-87ee-4c90-8b28-684116c1b91f",
        "colab": {
          "base_uri": "https://localhost:8080/",
          "height": 34
        }
      },
      "source": [
        ""
      ],
      "execution_count": 0,
      "outputs": [
        {
          "output_type": "stream",
          "text": [
            "[1.0, 2.8284271247461903, 5.196152422706632, 8.0, 11.180339887498949]\n"
          ],
          "name": "stdout"
        }
      ]
    },
    {
      "cell_type": "markdown",
      "metadata": {
        "colab_type": "text",
        "id": "S_svkzyGfSVt"
      },
      "source": [
        "#### Calcular el producto punto de los siguientes dos vectores:  [1,2,3] y  [3,2,1]"
      ]
    },
    {
      "cell_type": "code",
      "metadata": {
        "colab_type": "code",
        "id": "aFAxLIKYfPle",
        "outputId": "d81bbe53-e769-4863-e0e0-8b92c8eefecb",
        "colab": {
          "base_uri": "https://localhost:8080/",
          "height": 68
        }
      },
      "source": [
        ""
      ],
      "execution_count": 0,
      "outputs": [
        {
          "output_type": "stream",
          "text": [
            "El producto punto es 10\n",
            "\n",
            "El producto punto es 10\n"
          ],
          "name": "stdout"
        }
      ]
    },
    {
      "cell_type": "markdown",
      "metadata": {
        "colab_type": "text",
        "id": "csU77Jz0Fwz_"
      },
      "source": [
        "# 4. Referencias y material de interés\n",
        "\n",
        "\n",
        "1.   [Python for Data Analysis](https://www.oreilly.com/library/view/python-for-data/9781491957653/) [Online Book](https://jakevdp.github.io/PythonDataScienceHandbook/02.00-introduction-to-numpy.html)\n",
        "2.   [Data Analysis with Python](https://www.coursera.org/learn/data-analysis-with-python)\n",
        "3.   [Deep Learning Prerequisites: The Numpy Stack in Python](https://www.udemy.com/deep-learning-prerequisites-the-numpy-stack-in-python/)\n",
        "4.   [Intro Numpy Arrays](https://www.earthdatascience.org/courses/earth-analytics-bootcamp/numpy-arrays/intro-numpy-arrays/)\n",
        "\n",
        "5. [Vídeo: Intro to Numerical Computing with NumPy (Beginner) | SciPy 2018 Tutorial | Alex Chabot-Leclerc](https://www.youtube.com/watch?v=V0D2mhVt7NE)"
      ]
    }
  ]
}