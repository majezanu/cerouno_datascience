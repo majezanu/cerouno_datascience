{
  "nbformat": 4,
  "nbformat_minor": 0,
  "metadata": {
    "colab": {
      "name": "Autodiagnóstico.ipynb",
      "provenance": [],
      "collapsed_sections": [
        "6UuF0oENDpYa"
      ],
      "include_colab_link": true
    },
    "kernelspec": {
      "display_name": "Python 3",
      "language": "python",
      "name": "python3"
    },
    "language_info": {
      "codemirror_mode": {
        "name": "ipython",
        "version": 3
      },
      "file_extension": ".py",
      "mimetype": "text/x-python",
      "name": "python",
      "nbconvert_exporter": "python",
      "pygments_lexer": "ipython3",
      "version": "3.7.4"
    }
  },
  "cells": [
    {
      "cell_type": "markdown",
      "metadata": {
        "id": "view-in-github",
        "colab_type": "text"
      },
      "source": [
        "<a href=\"https://colab.research.google.com/github/majezanu/cerouno_datascience/blob/master/Autodiagn%C3%B3stico.ipynb\" target=\"_parent\"><img src=\"https://colab.research.google.com/assets/colab-badge.svg\" alt=\"Open In Colab\"/></a>"
      ]
    },
    {
      "cell_type": "markdown",
      "metadata": {
        "colab_type": "text",
        "id": "6UuF0oENDpYa"
      },
      "source": [
        "# Autodiagnóstico"
      ]
    },
    {
      "cell_type": "markdown",
      "metadata": {
        "id": "rDGKOLMJj2Gu",
        "colab_type": "text"
      },
      "source": [
        "# Objetivos Particulares: \n",
        "\n",
        "* Refrescar conceptos aprendidos con Introducción a Python\n",
        "* Medir el conocimiento obtenido en la semana actual"
      ]
    },
    {
      "cell_type": "markdown",
      "metadata": {
        "id": "O8XTnn_3j2Gy",
        "colab_type": "text"
      },
      "source": [
        "# Agenda"
      ]
    },
    {
      "cell_type": "markdown",
      "metadata": {
        "colab_type": "text",
        "id": "BavbEpheCrO8"
      },
      "source": [
        "# 1. Autodiagnóstico Introducción a Python"
      ]
    },
    {
      "cell_type": "markdown",
      "metadata": {
        "id": "5rUgmu_oj2G6",
        "colab_type": "text"
      },
      "source": [
        "## 1.1 Objetivos:\n",
        "* Autoevaluar los conceptos aprendidos en las primeras semanas del curso.\n",
        "* Observar la velocidad de procesamiento de los diferentes ejercicios.\n",
        "* Contar con un punto de comparación de Python y NumPy en el análisis de datos."
      ]
    },
    {
      "cell_type": "markdown",
      "metadata": {
        "id": "_9heAGfLj2G8",
        "colab_type": "text"
      },
      "source": [
        "### Conceptos de apoyo:\n",
        "- [Declaración de variables](https://www.pythonforbeginners.com/basics/python-variables)\n",
        "- [Tipo de datos](https://pythonista.io/cursos/py101/tipos-de-datos-basicos-y-operadores)\n",
        "- [Ciclos en Python](https://realpython.com/python-for-loop/) , [Video: For loops](https://www.youtube.com/watch?v=OnDr4J2UXSA)\n",
        "- [Importar una librería](https://www.digitalocean.com/community/tutorials/how-to-import-modules-in-python-3)\n",
        "- [Uso de librería random](https://pynative.com/python-random-module/)"
      ]
    },
    {
      "cell_type": "markdown",
      "metadata": {
        "colab_type": "text",
        "id": "pCq2oJ3UYeJn"
      },
      "source": [
        "## 1.1 Ejercicios"
      ]
    },
    {
      "cell_type": "markdown",
      "metadata": {
        "id": "5RHKYBiyj2HF",
        "colab_type": "text"
      },
      "source": [
        "#### Importar libreria generadora de numeros aleatorios"
      ]
    },
    {
      "cell_type": "code",
      "metadata": {
        "id": "puN8ajjzj2HH",
        "colab_type": "code",
        "colab": {}
      },
      "source": [
        "import numpy as np\n",
        "from numpy import random"
      ],
      "execution_count": 0,
      "outputs": []
    },
    {
      "cell_type": "markdown",
      "metadata": {
        "id": "PxrA0h4hj2HZ",
        "colab_type": "text"
      },
      "source": [
        "#### Definir variable *rnd_number* de tipo *float* y asignar a *rnd_number* el valor de un número aleatorio uniformemente distribuido entre [-1,1]"
      ]
    },
    {
      "cell_type": "code",
      "metadata": {
        "id": "e0CTg1Ruj2Hb",
        "colab_type": "code",
        "colab": {
          "base_uri": "https://localhost:8080/",
          "height": 34
        },
        "outputId": "8fd875ff-ea95-4a1f-aaad-068815d676d7"
      },
      "source": [
        "rnd_number = random.uniform(-1,1)\n",
        "print(rnd_number)"
      ],
      "execution_count": 15,
      "outputs": [
        {
          "output_type": "stream",
          "text": [
            "-0.16935466961128043\n"
          ],
          "name": "stdout"
        }
      ]
    },
    {
      "cell_type": "markdown",
      "metadata": {
        "id": "E3ZXeLiXj2Hl",
        "colab_type": "text"
      },
      "source": [
        "#### Declarar *rnd_vector* de tipo *list* con 100 numeros aleatorios distribuidos uniformemente entre [-1,1]"
      ]
    },
    {
      "cell_type": "code",
      "metadata": {
        "id": "IcQbcVvjj2Hm",
        "colab_type": "code",
        "outputId": "51112b39-9d18-4bac-ce87-a1baffba2400",
        "colab": {
          "base_uri": "https://localhost:8080/",
          "height": 312
        }
      },
      "source": [
        "rnd_vector = random.uniform(-1,1, size=[1,100])\n",
        "print(rnd_vector)"
      ],
      "execution_count": 27,
      "outputs": [
        {
          "output_type": "stream",
          "text": [
            "[[-0.02882329 -0.36290673  0.47976036 -0.20778909 -0.05987434 -0.88065191\n",
            "  -0.03907834  0.86866337  0.04368524  0.92630802 -0.49140076  0.25853915\n",
            "  -0.6308446   0.27972769 -0.83109897 -0.78270519 -0.88930467 -0.05282747\n",
            "  -0.2866871   0.38399212 -0.64953781  0.40110228 -0.55140343  0.26631595\n",
            "   0.56813747 -0.92872438  0.54913351 -0.11685357 -0.27631779 -0.90588791\n",
            "   0.58741957  0.1391854   0.0285496   0.86384995  0.04284254  0.41402857\n",
            "  -0.61765392  0.91244372 -0.04891028 -0.90551951 -0.67945688 -0.80584254\n",
            "  -0.58159176 -0.29953591  0.39441486 -0.75382158 -0.36940951 -0.12756787\n",
            "  -0.7929207  -0.5429861   0.03072665  0.15803702  0.52703725 -0.21337348\n",
            "   0.33537512 -0.2765238  -0.62448538  0.41174485  0.34186538  0.70935865\n",
            "  -0.58567496 -0.39776781  0.75350001 -0.18835621  0.62749706 -0.70874425\n",
            "   0.51083918  0.21782667  0.0787936   0.71182806  0.73285045 -0.42417571\n",
            "  -0.92736429 -0.45817947 -0.68191147 -0.36962133 -0.50329379  0.48584138\n",
            "   0.70615106 -0.05009344  0.06150023  0.02210753 -0.43187498  0.87244027\n",
            "  -0.98259791  0.13683362  0.35817185  0.80548425 -0.4799532  -0.93611502\n",
            "   0.44943792  0.15856273 -0.14675751 -0.70457688 -0.5804759   0.05202779\n",
            "  -0.0362573   0.81580802 -0.8232795   0.90982041]]\n"
          ],
          "name": "stdout"
        }
      ]
    },
    {
      "cell_type": "markdown",
      "metadata": {
        "id": "lJS6hoWWj2Hz",
        "colab_type": "text"
      },
      "source": [
        "#### Declarar la variable *rnd_mult* y asignar el valor de multiplicar *rnd_number* por *r_vector*\n",
        "* Pregunta: ¿Qué tipo de dato será *rnd_mult*? El resultado será una lista dentro de otra y cada elemento seráá de tipo float"
      ]
    },
    {
      "cell_type": "code",
      "metadata": {
        "id": "Vr6bq78Yj2H0",
        "colab_type": "code",
        "colab": {
          "base_uri": "https://localhost:8080/",
          "height": 312
        },
        "outputId": "fa984ef5-25b6-48d0-f871-c6be1ae2fc87"
      },
      "source": [
        "rnd_mult = rnd_number * rnd_vector\n",
        "print(rnd_mult)"
      ],
      "execution_count": 28,
      "outputs": [
        {
          "output_type": "stream",
          "text": [
            "[[ 0.00488136  0.06145995 -0.08124966  0.03519005  0.01014     0.14914251\n",
            "   0.0066181  -0.1471122  -0.0073983  -0.15687459  0.08322101 -0.04378481\n",
            "   0.10683648 -0.04737319  0.14075049  0.13255478  0.1506079   0.00894658\n",
            "   0.0485518  -0.06503086  0.11000226 -0.06792854  0.09338275 -0.04510185\n",
            "  -0.09621673  0.15728381 -0.09299832  0.0197897   0.04679571  0.15341635\n",
            "  -0.09948225 -0.0235717  -0.00483501 -0.14629702 -0.00725558 -0.07011767\n",
            "   0.10460257 -0.1545266   0.00828318  0.15335396  0.1150692   0.1364732\n",
            "   0.09849528  0.05072781 -0.066796    0.1276632   0.06256123  0.02160422\n",
            "   0.13428482  0.09195723 -0.0052037  -0.02676431 -0.08925622  0.0361358\n",
            "  -0.05679734  0.0468306   0.10575952 -0.06973091 -0.0578965  -0.1201332\n",
            "   0.09918679  0.06736384 -0.12760875  0.031899   -0.10626956  0.12002915\n",
            "  -0.086513   -0.03688996 -0.01334406 -0.12055141 -0.12411165  0.07183614\n",
            "   0.15705347  0.07759483  0.11548489  0.0625971   0.08523515 -0.08227951\n",
            "  -0.11958998  0.00848356 -0.01041535 -0.00374401  0.07314005 -0.14775183\n",
            "   0.16640755 -0.02317341 -0.06065808 -0.13641252  0.08128232  0.15853545\n",
            "  -0.07611441 -0.02685334  0.02485407  0.11932339  0.0983063  -0.00881115\n",
            "   0.00614034 -0.1381609   0.13942623 -0.15408233]]\n"
          ],
          "name": "stdout"
        }
      ]
    },
    {
      "cell_type": "markdown",
      "metadata": {
        "id": "uEyoImRcj2H8",
        "colab_type": "text"
      },
      "source": [
        "#### Declarar *rnd_matrix*, asignar los valores de *rnd_mult* distribuidos en 10 filas y 10 columnas\n",
        "* Pregunta: ¿Cómo se verá la variable *rnd_matrix*? Será una lista de 10 listas con 10 elementos cada una\n",
        "* Pregunta: ¿A qué puede ser equivalente una lista de listas desde un punto de álgebra lineal? Matriz\n",
        "* Pregunta: ¿Qué tipo de dato será la variable *rnd_matrix*? Lista de listas"
      ]
    },
    {
      "cell_type": "code",
      "metadata": {
        "id": "F0Nt44mej2H_",
        "colab_type": "code",
        "outputId": "8ce333ea-c998-4a79-8c29-0ff5f8fab630",
        "colab": {
          "base_uri": "https://localhost:8080/",
          "height": 364
        }
      },
      "source": [
        "rnd_matrix = rnd_mult.reshape((-1,10))\n",
        "print(rnd_matrix)"
      ],
      "execution_count": 37,
      "outputs": [
        {
          "output_type": "stream",
          "text": [
            "[[ 0.00488136  0.06145995 -0.08124966  0.03519005  0.01014     0.14914251\n",
            "   0.0066181  -0.1471122  -0.0073983  -0.15687459]\n",
            " [ 0.08322101 -0.04378481  0.10683648 -0.04737319  0.14075049  0.13255478\n",
            "   0.1506079   0.00894658  0.0485518  -0.06503086]\n",
            " [ 0.11000226 -0.06792854  0.09338275 -0.04510185 -0.09621673  0.15728381\n",
            "  -0.09299832  0.0197897   0.04679571  0.15341635]\n",
            " [-0.09948225 -0.0235717  -0.00483501 -0.14629702 -0.00725558 -0.07011767\n",
            "   0.10460257 -0.1545266   0.00828318  0.15335396]\n",
            " [ 0.1150692   0.1364732   0.09849528  0.05072781 -0.066796    0.1276632\n",
            "   0.06256123  0.02160422  0.13428482  0.09195723]\n",
            " [-0.0052037  -0.02676431 -0.08925622  0.0361358  -0.05679734  0.0468306\n",
            "   0.10575952 -0.06973091 -0.0578965  -0.1201332 ]\n",
            " [ 0.09918679  0.06736384 -0.12760875  0.031899   -0.10626956  0.12002915\n",
            "  -0.086513   -0.03688996 -0.01334406 -0.12055141]\n",
            " [-0.12411165  0.07183614  0.15705347  0.07759483  0.11548489  0.0625971\n",
            "   0.08523515 -0.08227951 -0.11958998  0.00848356]\n",
            " [-0.01041535 -0.00374401  0.07314005 -0.14775183  0.16640755 -0.02317341\n",
            "  -0.06065808 -0.13641252  0.08128232  0.15853545]\n",
            " [-0.07611441 -0.02685334  0.02485407  0.11932339  0.0983063  -0.00881115\n",
            "   0.00614034 -0.1381609   0.13942623 -0.15408233]]\n"
          ],
          "name": "stdout"
        }
      ]
    },
    {
      "cell_type": "markdown",
      "metadata": {
        "id": "Grpcj2Rzj2IF",
        "colab_type": "text"
      },
      "source": [
        "#### Completar la función get_column_matrix(column=0) para obtener la columna *n* de *matrix*"
      ]
    },
    {
      "cell_type": "code",
      "metadata": {
        "id": "dmjjVa34j2IG",
        "colab_type": "code",
        "colab": {}
      },
      "source": [
        "# Elige una de las dos funciones, la que mejor comprendas\n",
        "def get_column_matrix(matrix=[], n=0):\n",
        "    return [matrix[i][n] for i in matrix]\n",
        "\n",
        "def get_column_matrix(matrix=[], n=0):\n",
        "    column = []\n",
        "    # Operation\n",
        "    for row in matrix:\n",
        "        column.append(row[n])\n",
        "    return column"
      ],
      "execution_count": 0,
      "outputs": []
    },
    {
      "cell_type": "markdown",
      "metadata": {
        "id": "74aAtUlfj2IR",
        "colab_type": "text"
      },
      "source": [
        "#### Definir la variable *n_column* y asignar el valor de la columna *n_column* de la matriz *rnd_matrix*\n",
        "\n",
        "- Donde *n_column* será generado por la librería random y deberá ser un valor entero entre [0,9]\n",
        "- Tip: Puede utilizar la función get_column_matrix creada previamente"
      ]
    },
    {
      "cell_type": "code",
      "metadata": {
        "id": "lA9dzir-j2IU",
        "colab_type": "code",
        "colab": {
          "base_uri": "https://localhost:8080/",
          "height": 72
        },
        "outputId": "6aa96662-0cd6-4b28-cadc-b4534683670e"
      },
      "source": [
        "n_column_index = random.randint(0,9)\n",
        "n_column = get_column_matrix(rnd_matrix, n_column_index)\n",
        "print(f'La columna es: {n_column_index}')\n",
        "print(n_column)"
      ],
      "execution_count": 44,
      "outputs": [
        {
          "output_type": "stream",
          "text": [
            "La columna es: 3\n",
            "[0.035190053306178845, -0.047373189845270836, -0.04510185039070188, -0.14629702362346797, 0.050727805380027274, 0.03613579522690611, 0.03189900324530731, 0.07759483292447197, -0.14775183378888052, 0.11932338552435741]\n"
          ],
          "name": "stdout"
        }
      ]
    },
    {
      "cell_type": "code",
      "metadata": {
        "id": "fxMaVDRYj2Ic",
        "colab_type": "code",
        "outputId": "8660174b-25f4-4305-a518-ae7e340234ef",
        "colab": {}
      },
      "source": [
        ""
      ],
      "execution_count": 0,
      "outputs": [
        {
          "output_type": "stream",
          "text": [
            "[-0.036536441344872474, 0.040764765874949406, 0.07264288872615159, 0.1869251788571008, 0.013162020433915412, -0.008001360759885487, 0.05977624981682412, 0.007603469607368272, -0.19219277304629967, 0.050292442848267095]\n"
          ],
          "name": "stdout"
        }
      ]
    },
    {
      "cell_type": "markdown",
      "metadata": {
        "id": "3U4TbPVTj2Ik",
        "colab_type": "text"
      },
      "source": [
        "#### Calcular la media de la variable *n_column*"
      ]
    },
    {
      "cell_type": "code",
      "metadata": {
        "colab_type": "code",
        "id": "jDfCI-2Yb6b3",
        "outputId": "c88a436b-140c-4e23-cd34-fc2d089a8e64",
        "colab": {
          "base_uri": "https://localhost:8080/",
          "height": 34
        }
      },
      "source": [
        "median = np.median(n_column)\n",
        "print(f'La media es: {median}')"
      ],
      "execution_count": 48,
      "outputs": [
        {
          "output_type": "stream",
          "text": [
            "La media es: 0.03354452827574308\n"
          ],
          "name": "stdout"
        }
      ]
    },
    {
      "cell_type": "markdown",
      "metadata": {
        "id": "liPylKIlj2Iu",
        "colab_type": "text"
      },
      "source": [
        "#### Mostrar el valor máximo y mínimo de la 8va columna de *rnd_matrix*"
      ]
    },
    {
      "cell_type": "code",
      "metadata": {
        "id": "cFlnwk7Gj2Iw",
        "colab_type": "code",
        "colab": {
          "base_uri": "https://localhost:8080/",
          "height": 34
        },
        "outputId": "bb20baf2-2344-4a39-b891-79dfd40380f2"
      },
      "source": [
        "max_value = np.amax(get_column_matrix(rnd_matrix, 7))\n",
        "print(f'El valor maximo es: {max_value}')"
      ],
      "execution_count": 51,
      "outputs": [
        {
          "output_type": "stream",
          "text": [
            "El valor maximo es: 0.021604215307729737\n"
          ],
          "name": "stdout"
        }
      ]
    },
    {
      "cell_type": "code",
      "metadata": {
        "colab_type": "code",
        "id": "dJ0491OJb6DF",
        "outputId": "c7167ed9-d3e7-4224-b081-dbee467737a2",
        "colab": {
          "base_uri": "https://localhost:8080/",
          "height": 34
        }
      },
      "source": [
        "min_value = np.amin(get_column_matrix(rnd_matrix, 7))\n",
        "print(f'El valor minimo es: {min_value}')"
      ],
      "execution_count": 52,
      "outputs": [
        {
          "output_type": "stream",
          "text": [
            "El valor minimo es: -0.15452660498708518\n"
          ],
          "name": "stdout"
        }
      ]
    },
    {
      "cell_type": "markdown",
      "metadata": {
        "colab_type": "text",
        "id": "jW58niF6eWXg"
      },
      "source": [
        "####  Crea un vector del 1 al 5 y eleva a la potencia 3 cada elemento."
      ]
    },
    {
      "cell_type": "code",
      "metadata": {
        "colab_type": "code",
        "id": "fckda3XSeWkL",
        "outputId": "aa78b9b1-33f4-4759-9e5a-8ff9a806d9f4",
        "colab": {
          "base_uri": "https://localhost:8080/",
          "height": 52
        }
      },
      "source": [
        "vector = np.arange(1,6)\n",
        "print(f'El vector es {vector}')\n",
        "powered = np.power(vector, 3)\n",
        "print(f'El vector a la potencia 3 es: {powered}')"
      ],
      "execution_count": 64,
      "outputs": [
        {
          "output_type": "stream",
          "text": [
            "El vector es [1 2 3 4 5]\n",
            "El vector a la potencia 3 es: [  1   8  27  64 125]\n"
          ],
          "name": "stdout"
        }
      ]
    },
    {
      "cell_type": "markdown",
      "metadata": {
        "colab_type": "text",
        "id": "UMLihwiOeucZ"
      },
      "source": [
        "#### Calcula la raíz cuadrada de la lista anterior"
      ]
    },
    {
      "cell_type": "code",
      "metadata": {
        "colab_type": "code",
        "id": "LSy0U--8enuA",
        "outputId": "9ac21b05-9e80-44a0-ece5-9ad8cd584ddb",
        "colab": {
          "base_uri": "https://localhost:8080/",
          "height": 52
        }
      },
      "source": [
        "squared = np.sqrt(vector)\n",
        "print(f'La raiz cuadrada del vector es: {squared}')\n",
        "squared_powered = np.sqrt(powered)\n",
        "print(f'La raiz cuadrada del vector en potencia 3 es: {squared_powered}')"
      ],
      "execution_count": 70,
      "outputs": [
        {
          "output_type": "stream",
          "text": [
            "La raiz cuadrada del vector es: [1.         1.41421356 1.73205081 2.         2.23606798]\n",
            "La raiz cuadrada del vector en potencia 3 es: [ 1.          2.82842712  5.19615242  8.         11.18033989]\n"
          ],
          "name": "stdout"
        }
      ]
    },
    {
      "cell_type": "markdown",
      "metadata": {
        "colab_type": "text",
        "id": "S_svkzyGfSVt"
      },
      "source": [
        "#### Calcular el producto punto de los siguientes dos vectores:  [1,2,3] y  [3,2,1]"
      ]
    },
    {
      "cell_type": "code",
      "metadata": {
        "colab_type": "code",
        "id": "aFAxLIKYfPle",
        "outputId": "fc5e4715-fba0-4f41-b57c-63203af02608",
        "colab": {
          "base_uri": "https://localhost:8080/",
          "height": 69
        }
      },
      "source": [
        "first_vector = np.array([1,2,3])\n",
        "print(first_vector)\n",
        "second_vector = np.array([3,2,1])\n",
        "print(second_vector)\n",
        "dotted = np.dot(first_vector, second_vector)\n",
        "print(f'El producto punto es: {dotted}')"
      ],
      "execution_count": 73,
      "outputs": [
        {
          "output_type": "stream",
          "text": [
            "[1 2 3]\n",
            "[3 2 1]\n",
            "El producto punto es: 10\n"
          ],
          "name": "stdout"
        }
      ]
    },
    {
      "cell_type": "markdown",
      "metadata": {
        "colab_type": "text",
        "id": "csU77Jz0Fwz_"
      },
      "source": [
        "# 4. Referencias y material de interés\n",
        "\n",
        "\n",
        "1.   [Python for Data Analysis](https://www.oreilly.com/library/view/python-for-data/9781491957653/) [Online Book](https://jakevdp.github.io/PythonDataScienceHandbook/02.00-introduction-to-numpy.html)\n",
        "2.   [Data Analysis with Python](https://www.coursera.org/learn/data-analysis-with-python)\n",
        "3.   [Deep Learning Prerequisites: The Numpy Stack in Python](https://www.udemy.com/deep-learning-prerequisites-the-numpy-stack-in-python/)\n",
        "4.   [Intro Numpy Arrays](https://www.earthdatascience.org/courses/earth-analytics-bootcamp/numpy-arrays/intro-numpy-arrays/)\n",
        "\n",
        "5. [Vídeo: Intro to Numerical Computing with NumPy (Beginner) | SciPy 2018 Tutorial | Alex Chabot-Leclerc](https://www.youtube.com/watch?v=V0D2mhVt7NE)"
      ]
    }
  ]
}