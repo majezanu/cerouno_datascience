{
  "nbformat": 4,
  "nbformat_minor": 0,
  "metadata": {
    "colab": {
      "name": "Autodiagnóstico.ipynb",
      "provenance": [],
      "collapsed_sections": [
        "6UuF0oENDpYa"
      ],
      "include_colab_link": true
    },
    "kernelspec": {
      "display_name": "Python 3",
      "language": "python",
      "name": "python3"
    },
    "language_info": {
      "codemirror_mode": {
        "name": "ipython",
        "version": 3
      },
      "file_extension": ".py",
      "mimetype": "text/x-python",
      "name": "python",
      "nbconvert_exporter": "python",
      "pygments_lexer": "ipython3",
      "version": "3.7.4"
    }
  },
  "cells": [
    {
      "cell_type": "markdown",
      "metadata": {
        "id": "view-in-github",
        "colab_type": "text"
      },
      "source": [
        "<a href=\"https://colab.research.google.com/github/majezanu/cerouno_datascience/blob/master/Autodiagn%C3%B3stico.ipynb\" target=\"_parent\"><img src=\"https://colab.research.google.com/assets/colab-badge.svg\" alt=\"Open In Colab\"/></a>"
      ]
    },
    {
      "cell_type": "markdown",
      "metadata": {
        "colab_type": "text",
        "id": "6UuF0oENDpYa"
      },
      "source": [
        "# Autodiagnóstico"
      ]
    },
    {
      "cell_type": "markdown",
      "metadata": {
        "id": "rDGKOLMJj2Gu",
        "colab_type": "text"
      },
      "source": [
        "# Objetivos Particulares: \n",
        "\n",
        "* Refrescar conceptos aprendidos con Introducción a Python\n",
        "* Medir el conocimiento obtenido en la semana actual"
      ]
    },
    {
      "cell_type": "markdown",
      "metadata": {
        "id": "O8XTnn_3j2Gy",
        "colab_type": "text"
      },
      "source": [
        "# Agenda"
      ]
    },
    {
      "cell_type": "markdown",
      "metadata": {
        "colab_type": "text",
        "id": "BavbEpheCrO8"
      },
      "source": [
        "# 1. Autodiagnóstico Introducción a Python"
      ]
    },
    {
      "cell_type": "markdown",
      "metadata": {
        "id": "5rUgmu_oj2G6",
        "colab_type": "text"
      },
      "source": [
        "## 1.1 Objetivos:\n",
        "* Autoevaluar los conceptos aprendidos en las primeras semanas del curso.\n",
        "* Observar la velocidad de procesamiento de los diferentes ejercicios.\n",
        "* Contar con un punto de comparación de Python y NumPy en el análisis de datos."
      ]
    },
    {
      "cell_type": "markdown",
      "metadata": {
        "id": "_9heAGfLj2G8",
        "colab_type": "text"
      },
      "source": [
        "### Conceptos de apoyo:\n",
        "- [Declaración de variables](https://www.pythonforbeginners.com/basics/python-variables)\n",
        "- [Tipo de datos](https://pythonista.io/cursos/py101/tipos-de-datos-basicos-y-operadores)\n",
        "- [Ciclos en Python](https://realpython.com/python-for-loop/) , [Video: For loops](https://www.youtube.com/watch?v=OnDr4J2UXSA)\n",
        "- [Importar una librería](https://www.digitalocean.com/community/tutorials/how-to-import-modules-in-python-3)\n",
        "- [Uso de librería random](https://pynative.com/python-random-module/)"
      ]
    },
    {
      "cell_type": "markdown",
      "metadata": {
        "colab_type": "text",
        "id": "pCq2oJ3UYeJn"
      },
      "source": [
        "## 1.1 Ejercicios"
      ]
    },
    {
      "cell_type": "markdown",
      "metadata": {
        "id": "5RHKYBiyj2HF",
        "colab_type": "text"
      },
      "source": [
        "#### Importar libreria generadora de numeros aleatorios"
      ]
    },
    {
      "cell_type": "code",
      "metadata": {
        "id": "puN8ajjzj2HH",
        "colab_type": "code",
        "colab": {}
      },
      "source": [
        "import numpy as np\n",
        "from numpy import random"
      ],
      "execution_count": 0,
      "outputs": []
    },
    {
      "cell_type": "markdown",
      "metadata": {
        "id": "PxrA0h4hj2HZ",
        "colab_type": "text"
      },
      "source": [
        "#### Definir variable *rnd_number* de tipo *float* y asignar a *rnd_number* el valor de un número aleatorio uniformemente distribuido entre [-1,1]"
      ]
    },
    {
      "cell_type": "code",
      "metadata": {
        "id": "e0CTg1Ruj2Hb",
        "colab_type": "code",
        "colab": {
          "base_uri": "https://localhost:8080/",
          "height": 34
        },
        "outputId": "8fd875ff-ea95-4a1f-aaad-068815d676d7"
      },
      "source": [
        "rnd_number = random.uniform(-1,1)\n",
        "print(rnd_number)"
      ],
      "execution_count": 15,
      "outputs": [
        {
          "output_type": "stream",
          "text": [
            "-0.16935466961128043\n"
          ],
          "name": "stdout"
        }
      ]
    },
    {
      "cell_type": "markdown",
      "metadata": {
        "id": "E3ZXeLiXj2Hl",
        "colab_type": "text"
      },
      "source": [
        "#### Declarar *rnd_vector* de tipo *list* con 100 numeros aleatorios distribuidos uniformemente entre [-1,1]"
      ]
    },
    {
      "cell_type": "code",
      "metadata": {
        "id": "IcQbcVvjj2Hm",
        "colab_type": "code",
        "outputId": "51112b39-9d18-4bac-ce87-a1baffba2400",
        "colab": {
          "base_uri": "https://localhost:8080/",
          "height": 312
        }
      },
      "source": [
        "rnd_vector = random.uniform(-1,1, size=[1,100])\n",
        "print(rnd_vector)"
      ],
      "execution_count": 27,
      "outputs": [
        {
          "output_type": "stream",
          "text": [
            "[[-0.02882329 -0.36290673  0.47976036 -0.20778909 -0.05987434 -0.88065191\n",
            "  -0.03907834  0.86866337  0.04368524  0.92630802 -0.49140076  0.25853915\n",
            "  -0.6308446   0.27972769 -0.83109897 -0.78270519 -0.88930467 -0.05282747\n",
            "  -0.2866871   0.38399212 -0.64953781  0.40110228 -0.55140343  0.26631595\n",
            "   0.56813747 -0.92872438  0.54913351 -0.11685357 -0.27631779 -0.90588791\n",
            "   0.58741957  0.1391854   0.0285496   0.86384995  0.04284254  0.41402857\n",
            "  -0.61765392  0.91244372 -0.04891028 -0.90551951 -0.67945688 -0.80584254\n",
            "  -0.58159176 -0.29953591  0.39441486 -0.75382158 -0.36940951 -0.12756787\n",
            "  -0.7929207  -0.5429861   0.03072665  0.15803702  0.52703725 -0.21337348\n",
            "   0.33537512 -0.2765238  -0.62448538  0.41174485  0.34186538  0.70935865\n",
            "  -0.58567496 -0.39776781  0.75350001 -0.18835621  0.62749706 -0.70874425\n",
            "   0.51083918  0.21782667  0.0787936   0.71182806  0.73285045 -0.42417571\n",
            "  -0.92736429 -0.45817947 -0.68191147 -0.36962133 -0.50329379  0.48584138\n",
            "   0.70615106 -0.05009344  0.06150023  0.02210753 -0.43187498  0.87244027\n",
            "  -0.98259791  0.13683362  0.35817185  0.80548425 -0.4799532  -0.93611502\n",
            "   0.44943792  0.15856273 -0.14675751 -0.70457688 -0.5804759   0.05202779\n",
            "  -0.0362573   0.81580802 -0.8232795   0.90982041]]\n"
          ],
          "name": "stdout"
        }
      ]
    },
    {
      "cell_type": "markdown",
      "metadata": {
        "id": "lJS6hoWWj2Hz",
        "colab_type": "text"
      },
      "source": [
        "#### Declarar la variable *rnd_mult* y asignar el valor de multiplicar *rnd_number* por *r_vector*\n",
        "* Pregunta: ¿Qué tipo de dato será *rnd_mult*? El resultado será una lista dentro de otra y cada elemento seráá de tipo float"
      ]
    },
    {
      "cell_type": "code",
      "metadata": {
        "id": "Vr6bq78Yj2H0",
        "colab_type": "code",
        "colab": {
          "base_uri": "https://localhost:8080/",
          "height": 312
        },
        "outputId": "fa984ef5-25b6-48d0-f871-c6be1ae2fc87"
      },
      "source": [
        "rnd_mult = rnd_number * rnd_vector\n",
        "print(rnd_mult)"
      ],
      "execution_count": 28,
      "outputs": [
        {
          "output_type": "stream",
          "text": [
            "[[ 0.00488136  0.06145995 -0.08124966  0.03519005  0.01014     0.14914251\n",
            "   0.0066181  -0.1471122  -0.0073983  -0.15687459  0.08322101 -0.04378481\n",
            "   0.10683648 -0.04737319  0.14075049  0.13255478  0.1506079   0.00894658\n",
            "   0.0485518  -0.06503086  0.11000226 -0.06792854  0.09338275 -0.04510185\n",
            "  -0.09621673  0.15728381 -0.09299832  0.0197897   0.04679571  0.15341635\n",
            "  -0.09948225 -0.0235717  -0.00483501 -0.14629702 -0.00725558 -0.07011767\n",
            "   0.10460257 -0.1545266   0.00828318  0.15335396  0.1150692   0.1364732\n",
            "   0.09849528  0.05072781 -0.066796    0.1276632   0.06256123  0.02160422\n",
            "   0.13428482  0.09195723 -0.0052037  -0.02676431 -0.08925622  0.0361358\n",
            "  -0.05679734  0.0468306   0.10575952 -0.06973091 -0.0578965  -0.1201332\n",
            "   0.09918679  0.06736384 -0.12760875  0.031899   -0.10626956  0.12002915\n",
            "  -0.086513   -0.03688996 -0.01334406 -0.12055141 -0.12411165  0.07183614\n",
            "   0.15705347  0.07759483  0.11548489  0.0625971   0.08523515 -0.08227951\n",
            "  -0.11958998  0.00848356 -0.01041535 -0.00374401  0.07314005 -0.14775183\n",
            "   0.16640755 -0.02317341 -0.06065808 -0.13641252  0.08128232  0.15853545\n",
            "  -0.07611441 -0.02685334  0.02485407  0.11932339  0.0983063  -0.00881115\n",
            "   0.00614034 -0.1381609   0.13942623 -0.15408233]]\n"
          ],
          "name": "stdout"
        }
      ]
    },
    {
      "cell_type": "markdown",
      "metadata": {
        "id": "uEyoImRcj2H8",
        "colab_type": "text"
      },
      "source": [
        "#### Declarar *rnd_matrix*, asignar los valores de *rnd_mult* distribuidos en 10 filas y 10 columnas\n",
        "* Pregunta: ¿Cómo se verá la variable *rnd_matrix*? (Ejemplo) [[0.1,0.2,0.6],[1.2,9.1,0.3],[0.0,1.2,43.2]]\n",
        "* Pregunta: ¿A qué puede ser equivalente una lista de listas desde un punto de álgebra lineal? Matriz\n",
        "* Pregunta: ¿Qué tipo de dato será la variable *rnd_matrix*? Lista de listas"
      ]
    },
    {
      "cell_type": "code",
      "metadata": {
        "id": "F0Nt44mej2H_",
        "colab_type": "code",
        "outputId": "3867d63a-12f5-47b5-e3ef-8a769053fd27",
        "colab": {}
      },
      "source": [
        ""
      ],
      "execution_count": 0,
      "outputs": [
        {
          "output_type": "stream",
          "text": [
            "[[-0.13913549603653388, 0.039684663302873485, 0.05094877941872279, -0.036536441344872474, -0.1407883139275535, -0.09028980313572495, -0.1265497790915101, -0.04808079112242052, 0.2010332360062505, -0.07466721552062797], [0.027965991010521593, 0.1427323489093868, -0.07930403563066978, 0.040764765874949406, -0.028576731837724086, -0.10008305534113283, -0.12420926097111494, -0.15310395632787066, 0.02908281004345119, -0.11714108233124443], [-0.08123536173716117, 0.16017657656362858, -0.0907203321191127, 0.07264288872615159, -0.15972356741556462, -0.07305908144988658, -0.09739246339545639, 0.0879772963215009, -0.0009577829128055619, -0.13406571397365805], [0.20116827223470418, -0.07415545533843146, -0.09748738100353674, 0.1869251788571008, -0.1134957964470635, 0.15345176888519832, 0.1755839305922781, -0.09140044218368969, 0.15228088276299123, 0.007340629818660097], [0.044136562209934595, -0.03618030452256877, 0.1499841541990789, 0.013162020433915412, 0.183490159323795, -0.026450176517697512, 0.043836331836497155, -0.08974728670910513, -0.2173148767243331, -0.14655170388959934], [0.08380182447596245, -0.15078207179965783, -0.20032082772269247, -0.008001360759885487, 0.08015215767875647, -0.11592006691649975, 0.08642589455625539, -0.06292338419669587, 0.018478285578289184, 0.1261991353576716], [-0.12802107703620935, 0.1881215665648582, 0.21107130454976605, 0.05977624981682412, -0.039905696448020216, 0.15031629786448247, 0.13866610005043262, 0.21105412244596553, -0.13213944362349248, 0.13439618334235331], [0.21283939838896265, -0.12650961131959287, -0.1307796485236955, 0.007603469607368272, -0.1974508609954093, 0.09518190165560819, 0.2132178016716659, 0.15080818689577036, 0.12223683835003671, 0.050377126896582435], [-0.19530751576377045, 0.05912451704550273, 0.10992924231951719, -0.19219277304629967, -0.005346120880019314, -0.1751724037525452, 0.10287591731573548, 0.0878726084437164, 0.006843418576838382, 0.05699501832511107], [-0.04741067731010875, -0.0453834158272348, -0.10257925228870833, 0.050292442848267095, 0.015525046982689276, 0.11775109545259792, 0.05574158534188619, 0.12349861224215705, -0.08351112069026011, -0.04175749128361851]]\n"
          ],
          "name": "stdout"
        }
      ]
    },
    {
      "cell_type": "markdown",
      "metadata": {
        "id": "Grpcj2Rzj2IF",
        "colab_type": "text"
      },
      "source": [
        "#### Completar la función get_column_matrix(column=0) para obtener la columna *n* de *matrix*"
      ]
    },
    {
      "cell_type": "code",
      "metadata": {
        "id": "dmjjVa34j2IG",
        "colab_type": "code",
        "colab": {}
      },
      "source": [
        "# Elige una de las dos funciones, la que mejor comprendas\n",
        "def get_column_matrix(matrix=[], n=0):\n",
        "    return [matrix[i][¿QUE VALOR VA AQUI?] for i in matrix]\n",
        "\n",
        "def get_column_matrix(matrix=[], n=0):\n",
        "    column = []\n",
        "    # Operation\n",
        "    for row in matrix:\n",
        "        column.append(row[¿QUE VALOR VA AQUI?])\n",
        "    return column"
      ],
      "execution_count": 0,
      "outputs": []
    },
    {
      "cell_type": "markdown",
      "metadata": {
        "id": "74aAtUlfj2IR",
        "colab_type": "text"
      },
      "source": [
        "#### Definir la variable *n_column* y asignar el valor de la columna *n_column* de la matriz *rnd_matrix*\n",
        "\n",
        "- Donde *n_column* será generado por la librería random y deberá ser un valor entero entre [0,9]\n",
        "- Tip: Puede utilizar la función get_column_matrix creada previamente"
      ]
    },
    {
      "cell_type": "code",
      "metadata": {
        "id": "lA9dzir-j2IU",
        "colab_type": "code",
        "colab": {}
      },
      "source": [
        ""
      ],
      "execution_count": 0,
      "outputs": []
    },
    {
      "cell_type": "code",
      "metadata": {
        "id": "fxMaVDRYj2Ic",
        "colab_type": "code",
        "outputId": "8660174b-25f4-4305-a518-ae7e340234ef",
        "colab": {}
      },
      "source": [
        ""
      ],
      "execution_count": 0,
      "outputs": [
        {
          "output_type": "stream",
          "text": [
            "[-0.036536441344872474, 0.040764765874949406, 0.07264288872615159, 0.1869251788571008, 0.013162020433915412, -0.008001360759885487, 0.05977624981682412, 0.007603469607368272, -0.19219277304629967, 0.050292442848267095]\n"
          ],
          "name": "stdout"
        }
      ]
    },
    {
      "cell_type": "markdown",
      "metadata": {
        "id": "3U4TbPVTj2Ik",
        "colab_type": "text"
      },
      "source": [
        "#### Calcular la media de la variable *n_column*"
      ]
    },
    {
      "cell_type": "code",
      "metadata": {
        "colab_type": "code",
        "id": "jDfCI-2Yb6b3",
        "outputId": "d813c9f3-0ca6-4c19-93b5-e2155a2dfbd9",
        "colab": {
          "base_uri": "https://localhost:8080/",
          "height": 68
        }
      },
      "source": [
        ""
      ],
      "execution_count": 0,
      "outputs": [
        {
          "output_type": "stream",
          "text": [
            "La media es igual a 0.019443644101351906\n",
            "\n",
            "La media es igual a 0.019443644101351906\n"
          ],
          "name": "stdout"
        }
      ]
    },
    {
      "cell_type": "markdown",
      "metadata": {
        "id": "liPylKIlj2Iu",
        "colab_type": "text"
      },
      "source": [
        "#### Mostrar el valor máximo y mínimo de la 8va columna de *rnd_matrix*"
      ]
    },
    {
      "cell_type": "code",
      "metadata": {
        "id": "cFlnwk7Gj2Iw",
        "colab_type": "code",
        "colab": {}
      },
      "source": [
        ""
      ],
      "execution_count": 0,
      "outputs": []
    },
    {
      "cell_type": "code",
      "metadata": {
        "colab_type": "code",
        "id": "dJ0491OJb6DF",
        "outputId": "aa8dc429-29de-42b8-d399-6139805a42dc",
        "colab": {
          "base_uri": "https://localhost:8080/",
          "height": 34
        }
      },
      "source": [
        "\n"
      ],
      "execution_count": 0,
      "outputs": [
        {
          "output_type": "stream",
          "text": [
            "El valor máximo de la octava columna es 0.2010332360062505 mientras que el mínimo es -0.2173148767243331\n"
          ],
          "name": "stdout"
        }
      ]
    },
    {
      "cell_type": "markdown",
      "metadata": {
        "colab_type": "text",
        "id": "jW58niF6eWXg"
      },
      "source": [
        "####  Crea un vector del 1 al 5 y eleva a la potencia 3 cada elemento."
      ]
    },
    {
      "cell_type": "code",
      "metadata": {
        "colab_type": "code",
        "id": "fckda3XSeWkL",
        "outputId": "99fcac2f-d37b-44ea-9f60-31ff85ea92aa",
        "colab": {
          "base_uri": "https://localhost:8080/",
          "height": 68
        }
      },
      "source": [
        ""
      ],
      "execution_count": 0,
      "outputs": [
        {
          "output_type": "stream",
          "text": [
            "El vector es: [1, 2, 3, 4, 5]\n",
            "\n",
            "El vector es: [1, 8, 27, 64, 125]\n"
          ],
          "name": "stdout"
        }
      ]
    },
    {
      "cell_type": "markdown",
      "metadata": {
        "colab_type": "text",
        "id": "UMLihwiOeucZ"
      },
      "source": [
        "#### Calcula la raíz cuadrada de la lista anterior"
      ]
    },
    {
      "cell_type": "code",
      "metadata": {
        "colab_type": "code",
        "id": "LSy0U--8enuA",
        "outputId": "45539919-87ee-4c90-8b28-684116c1b91f",
        "colab": {
          "base_uri": "https://localhost:8080/",
          "height": 34
        }
      },
      "source": [
        ""
      ],
      "execution_count": 0,
      "outputs": [
        {
          "output_type": "stream",
          "text": [
            "[1.0, 2.8284271247461903, 5.196152422706632, 8.0, 11.180339887498949]\n"
          ],
          "name": "stdout"
        }
      ]
    },
    {
      "cell_type": "markdown",
      "metadata": {
        "colab_type": "text",
        "id": "S_svkzyGfSVt"
      },
      "source": [
        "#### Calcular el producto punto de los siguientes dos vectores:  [1,2,3] y  [3,2,1]"
      ]
    },
    {
      "cell_type": "code",
      "metadata": {
        "colab_type": "code",
        "id": "aFAxLIKYfPle",
        "outputId": "d81bbe53-e769-4863-e0e0-8b92c8eefecb",
        "colab": {
          "base_uri": "https://localhost:8080/",
          "height": 68
        }
      },
      "source": [
        ""
      ],
      "execution_count": 0,
      "outputs": [
        {
          "output_type": "stream",
          "text": [
            "El producto punto es 10\n",
            "\n",
            "El producto punto es 10\n"
          ],
          "name": "stdout"
        }
      ]
    },
    {
      "cell_type": "markdown",
      "metadata": {
        "colab_type": "text",
        "id": "csU77Jz0Fwz_"
      },
      "source": [
        "# 4. Referencias y material de interés\n",
        "\n",
        "\n",
        "1.   [Python for Data Analysis](https://www.oreilly.com/library/view/python-for-data/9781491957653/) [Online Book](https://jakevdp.github.io/PythonDataScienceHandbook/02.00-introduction-to-numpy.html)\n",
        "2.   [Data Analysis with Python](https://www.coursera.org/learn/data-analysis-with-python)\n",
        "3.   [Deep Learning Prerequisites: The Numpy Stack in Python](https://www.udemy.com/deep-learning-prerequisites-the-numpy-stack-in-python/)\n",
        "4.   [Intro Numpy Arrays](https://www.earthdatascience.org/courses/earth-analytics-bootcamp/numpy-arrays/intro-numpy-arrays/)\n",
        "\n",
        "5. [Vídeo: Intro to Numerical Computing with NumPy (Beginner) | SciPy 2018 Tutorial | Alex Chabot-Leclerc](https://www.youtube.com/watch?v=V0D2mhVt7NE)"
      ]
    }
  ]
}