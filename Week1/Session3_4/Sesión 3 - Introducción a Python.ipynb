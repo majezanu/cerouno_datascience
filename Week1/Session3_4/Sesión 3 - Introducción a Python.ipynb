{
 "cells": [
  {
   "cell_type": "markdown",
   "metadata": {},
   "source": [
    "## Sesión 3 - Introducción a Python"
   ]
  },
  {
   "cell_type": "markdown",
   "metadata": {},
   "source": [
    "### Estructuras de Datos /Colecciones en Python\n",
    "\n",
    "#### Continuación - Operaciones con Listas"
   ]
  },
  {
   "cell_type": "code",
   "execution_count": null,
   "metadata": {},
   "outputs": [],
   "source": [
    "#Nota: estas lineas de código te permiten activar que en tu ambiente no requieras escribir print() constantemente al imprimir\n",
    "#uno o varios resultados\n",
    "from IPython.core.interactiveshell import InteractiveShell\n",
    "InteractiveShell.ast_node_interactivity = \"all\""
   ]
  },
  {
   "cell_type": "code",
   "execution_count": 2,
   "metadata": {},
   "outputs": [
    {
     "data": {
      "text/plain": [
       "[]"
      ]
     },
     "execution_count": 2,
     "metadata": {},
     "output_type": "execute_result"
    }
   ],
   "source": [
    "#Definición de una lista vacia \n",
    "mi_lista = []\n",
    "mi_lista"
   ]
  },
  {
   "cell_type": "code",
   "execution_count": 3,
   "metadata": {},
   "outputs": [
    {
     "data": {
      "text/plain": [
       "[1]"
      ]
     },
     "execution_count": 3,
     "metadata": {},
     "output_type": "execute_result"
    }
   ],
   "source": [
    "#Añadimos el elemento numérico uno al final de la lista\n",
    "mi_lista.append(1)\n",
    "mi_lista"
   ]
  },
  {
   "cell_type": "code",
   "execution_count": 4,
   "metadata": {},
   "outputs": [
    {
     "data": {
      "text/plain": [
       "[1, 'Monty']"
      ]
     },
     "execution_count": 4,
     "metadata": {},
     "output_type": "execute_result"
    }
   ],
   "source": [
    "#Añadimos un string al final de la lista. \n",
    "mi_lista.append(\"Monty\")\n",
    "mi_lista"
   ]
  },
  {
   "cell_type": "code",
   "execution_count": 5,
   "metadata": {},
   "outputs": [
    {
     "data": {
      "text/plain": [
       "[1, 'Monty', True]"
      ]
     },
     "execution_count": 5,
     "metadata": {},
     "output_type": "execute_result"
    }
   ],
   "source": [
    "#Añadimos una variable booleana al final de la lista. \n",
    "mi_lista.append(True)\n",
    "mi_lista"
   ]
  },
  {
   "cell_type": "code",
   "execution_count": 7,
   "metadata": {},
   "outputs": [
    {
     "name": "stdout",
     "output_type": "stream",
     "text": [
      "['honda', 'vw', 'kia', 10, 20, 30, 1, 'Monty', True]\n"
     ]
    }
   ],
   "source": [
    "#Concatenar 2 listas\n",
    "otra_lista = ['honda', 'vw','kia',10,20,30]\n",
    "print(otra_lista + mi_lista)"
   ]
  },
  {
   "cell_type": "code",
   "execution_count": 9,
   "metadata": {},
   "outputs": [
    {
     "name": "stdout",
     "output_type": "stream",
     "text": [
      "[10, 3.0, 'Python', [2, 4], 'Data']\n"
     ]
    }
   ],
   "source": [
    "#guardar una lista dentro de otra lista\n",
    "lista_ejemplo = [10,3.0,'Python', [2,4],'Data']\n",
    "print(lista_ejemplo)"
   ]
  },
  {
   "cell_type": "markdown",
   "metadata": {},
   "source": [
    "¡Importante a Recordar! En Python el index inicia en 0"
   ]
  },
  {
   "cell_type": "code",
   "execution_count": 10,
   "metadata": {},
   "outputs": [
    {
     "data": {
      "text/plain": [
       "1"
      ]
     },
     "execution_count": 10,
     "metadata": {},
     "output_type": "execute_result"
    }
   ],
   "source": [
    "#Seleccionemos el primer elemento de la lita\n",
    "mi_lista[0] "
   ]
  },
  {
   "cell_type": "code",
   "execution_count": 11,
   "metadata": {},
   "outputs": [
    {
     "data": {
      "text/plain": [
       "['Monty', True]"
      ]
     },
     "execution_count": 11,
     "metadata": {},
     "output_type": "execute_result"
    }
   ],
   "source": [
    "#Seleccionemos de segundo elemento en adelante\n",
    "mi_lista[1:]"
   ]
  },
  {
   "cell_type": "code",
   "execution_count": 12,
   "metadata": {},
   "outputs": [
    {
     "data": {
      "text/plain": [
       "True"
      ]
     },
     "execution_count": 12,
     "metadata": {},
     "output_type": "execute_result"
    }
   ],
   "source": [
    "#Para obtener el ultimo elemento\n",
    "mi_lista[-1]"
   ]
  },
  {
   "cell_type": "code",
   "execution_count": 13,
   "metadata": {},
   "outputs": [
    {
     "data": {
      "text/plain": [
       "'Monty'"
      ]
     },
     "execution_count": 13,
     "metadata": {},
     "output_type": "execute_result"
    }
   ],
   "source": [
    "#Para obtener el anteúltimo elemento\n",
    "mi_lista[-2]"
   ]
  },
  {
   "cell_type": "code",
   "execution_count": 14,
   "metadata": {},
   "outputs": [
    {
     "data": {
      "text/plain": [
       "[1, 'Monty', True, 'DataScience']"
      ]
     },
     "execution_count": 14,
     "metadata": {},
     "output_type": "execute_result"
    }
   ],
   "source": [
    "mi_lista.append('DataScience')\n",
    "mi_lista"
   ]
  },
  {
   "cell_type": "code",
   "execution_count": 15,
   "metadata": {},
   "outputs": [
    {
     "data": {
      "text/plain": [
       "[1, 'Monty', 'DataScience']"
      ]
     },
     "execution_count": 15,
     "metadata": {},
     "output_type": "execute_result"
    }
   ],
   "source": [
    "#Para eliminar un elemento de la lista\n",
    "del mi_lista[2]\n",
    "mi_lista"
   ]
  },
  {
   "cell_type": "code",
   "execution_count": 16,
   "metadata": {},
   "outputs": [],
   "source": [
    "#Para eliminar una lista de memoria\n",
    "del mi_lista"
   ]
  },
  {
   "cell_type": "markdown",
   "metadata": {},
   "source": [
    "### Ejercicios en clase\n",
    "1. Crea una lista de strings, puede ser del tema de tu preferencia. Por ejemplo: Carros, mascotas, postres,etc\n",
    "2. Crea una lista de números enteros \n",
    "3. Crea una lista de números de punto flotante\n",
    "4. Crea una lista que tenga strings, números enteros y flotantes\n",
    "5. Toma la siguiente lista [10,3.0,'Python', [2,4],'Data','Science']:\n",
    "    1. Obten el elemento 2 de la lista\n",
    "    2. Obten el último elemento de la lista\n",
    "    3. Elimina el elemento 2 de la lista\n",
    "    4. Añade un elemento a la lista, del tipo que quieras\n",
    "##### Realiza cada ejercicio en un bloque de código diferente"
   ]
  },
  {
   "cell_type": "code",
   "execution_count": 19,
   "metadata": {},
   "outputs": [
    {
     "name": "stdout",
     "output_type": "stream",
     "text": [
      "['Empanizado', 'Carne asada', 'Poc chuc']\n"
     ]
    }
   ],
   "source": [
    "foods = [\"Empanizado\", \"Carne asada\", \"Poc chuc\"]\n",
    "print(foods)"
   ]
  },
  {
   "cell_type": "code",
   "execution_count": 21,
   "metadata": {},
   "outputs": [
    {
     "name": "stdout",
     "output_type": "stream",
     "text": [
      "[1, 2, 3, 4, 5, 6]\n"
     ]
    }
   ],
   "source": [
    "integers = [1,2,3,4,5,6]\n",
    "print(integers)"
   ]
  },
  {
   "cell_type": "code",
   "execution_count": 23,
   "metadata": {},
   "outputs": [
    {
     "name": "stdout",
     "output_type": "stream",
     "text": [
      "[2.3, 3.4, 5.6]\n"
     ]
    }
   ],
   "source": [
    "floats = [2.3, 3.4, 5.6]\n",
    "print(floats)"
   ]
  },
  {
   "cell_type": "code",
   "execution_count": 26,
   "metadata": {},
   "outputs": [
    {
     "name": "stdout",
     "output_type": "stream",
     "text": [
      "['Empanizado', 'Carne asada', 'Poc chuc', 1, 2, 3, 4, 5, 6, 2.3, 3.4, 5.6]\n"
     ]
    }
   ],
   "source": [
    "mix = foods + integers + floats\n",
    "print(mix)"
   ]
  },
  {
   "cell_type": "code",
   "execution_count": 30,
   "metadata": {},
   "outputs": [],
   "source": [
    "exercise5 = [10, 3.0, 'Python', [2,4], 'Data', 'Science']"
   ]
  },
  {
   "cell_type": "code",
   "execution_count": 37,
   "metadata": {},
   "outputs": [
    {
     "data": {
      "text/plain": [
       "[2, 4]"
      ]
     },
     "execution_count": 37,
     "metadata": {},
     "output_type": "execute_result"
    }
   ],
   "source": [
    "exercise5[1]"
   ]
  },
  {
   "cell_type": "code",
   "execution_count": 34,
   "metadata": {},
   "outputs": [
    {
     "data": {
      "text/plain": [
       "'Science'"
      ]
     },
     "execution_count": 34,
     "metadata": {},
     "output_type": "execute_result"
    }
   ],
   "source": [
    "exercise5[-1]"
   ]
  },
  {
   "cell_type": "code",
   "execution_count": 36,
   "metadata": {},
   "outputs": [],
   "source": [
    "del exercise5[1]"
   ]
  },
  {
   "cell_type": "code",
   "execution_count": 40,
   "metadata": {},
   "outputs": [
    {
     "name": "stdout",
     "output_type": "stream",
     "text": [
      "[10, [2, 4], 'Data', 'Science', 'Testing append', 'Testing append']\n"
     ]
    }
   ],
   "source": [
    "exercise5.append('Testing append')\n",
    "print(exercise5)"
   ]
  },
  {
   "cell_type": "code",
   "execution_count": 41,
   "metadata": {},
   "outputs": [],
   "source": [
    "##Continuamos\n",
    "#Modificación de una lista\n",
    "#Con la siguiente lista vamos a Cambiar el tercer elemento \n",
    "lista_nombres = ['Ana','Julieta','Angel','Mario']"
   ]
  },
  {
   "cell_type": "code",
   "execution_count": 42,
   "metadata": {},
   "outputs": [
    {
     "data": {
      "text/plain": [
       "['Ana', 'Julieta', 'Micaela', 'Mario']"
      ]
     },
     "execution_count": 42,
     "metadata": {},
     "output_type": "execute_result"
    }
   ],
   "source": [
    "#Cambiamos el tercer elemento \n",
    "lista_nombres[2]='Micaela'\n",
    "lista_nombres"
   ]
  },
  {
   "cell_type": "code",
   "execution_count": 43,
   "metadata": {},
   "outputs": [
    {
     "data": {
      "text/plain": [
       "['Ana', 'Perez', 'Julieta', 'Micaela', 'Mario']"
      ]
     },
     "execution_count": 43,
     "metadata": {},
     "output_type": "execute_result"
    }
   ],
   "source": [
    "#insertar un elemento en la posicion deseada\n",
    "lista_nombres.insert(1, 'Perez')\n",
    "lista_nombres"
   ]
  },
  {
   "cell_type": "code",
   "execution_count": 44,
   "metadata": {},
   "outputs": [
    {
     "data": {
      "text/plain": [
       "['Mario', 'Micaela', 'Julieta', 'Perez', 'Ana']"
      ]
     },
     "execution_count": 44,
     "metadata": {},
     "output_type": "execute_result"
    }
   ],
   "source": [
    "#voltear la lista\n",
    "lista_nombres.reverse()\n",
    "lista_nombres"
   ]
  },
  {
   "cell_type": "code",
   "execution_count": 46,
   "metadata": {},
   "outputs": [
    {
     "data": {
      "text/plain": [
       "['Ana', 'Julieta', 'Mario', 'Micaela', 'Perez']"
      ]
     },
     "execution_count": 46,
     "metadata": {},
     "output_type": "execute_result"
    }
   ],
   "source": [
    "#Para ordenar los elementos de una lista\n",
    "lista_nombres.sort()\n",
    "lista_nombres"
   ]
  },
  {
   "cell_type": "code",
   "execution_count": 47,
   "metadata": {},
   "outputs": [],
   "source": [
    "otra_lista = ['Jessica','Angel',1,2.0,10,'Ana']"
   ]
  },
  {
   "cell_type": "code",
   "execution_count": 49,
   "metadata": {},
   "outputs": [
    {
     "ename": "TypeError",
     "evalue": "'<' not supported between instances of 'int' and 'str'",
     "output_type": "error",
     "traceback": [
      "\u001b[0;31m---------------------------------------------------------------------------\u001b[0m",
      "\u001b[0;31mTypeError\u001b[0m                                 Traceback (most recent call last)",
      "\u001b[0;32m<ipython-input-49-69795df4b5b4>\u001b[0m in \u001b[0;36m<module>\u001b[0;34m\u001b[0m\n\u001b[0;32m----> 1\u001b[0;31m \u001b[0motra_lista\u001b[0m\u001b[0;34m.\u001b[0m\u001b[0msort\u001b[0m\u001b[0;34m(\u001b[0m\u001b[0;34m)\u001b[0m\u001b[0;34m\u001b[0m\u001b[0;34m\u001b[0m\u001b[0m\n\u001b[0m",
      "\u001b[0;31mTypeError\u001b[0m: '<' not supported between instances of 'int' and 'str'"
     ]
    }
   ],
   "source": [
    "otra_lista.sort()"
   ]
  },
  {
   "cell_type": "code",
   "execution_count": null,
   "metadata": {},
   "outputs": [],
   "source": [
    "lista_nombres.remove('Perez')\n",
    "lista_nombres"
   ]
  },
  {
   "cell_type": "markdown",
   "metadata": {},
   "source": [
    "### Tuplas\n",
    "\n",
    "1. Son una secuencia ordenada de elementos, donde los elementos no tienen que pertenecer al mismo tipo de variable. \n",
    "2. Las tuplas son inmutables: después de creadas no pueden ser modificadas. Se utilizan para la protección de sobreescritura en ciertas varibles. \n",
    "3. Son definidas mediante parentesis ().  \n",
    "4. Podemos extraer un cierto elemento de ellas mediante el uso de corchetes [], pero la sobreescritura esta prohibida. "
   ]
  },
  {
   "cell_type": "code",
   "execution_count": null,
   "metadata": {},
   "outputs": [],
   "source": [
    "#Vamos a crear una lista para observar la diferencia entre ambas\n",
    "estructura_datos = [1,2]\n",
    "type(estructura_datos)"
   ]
  },
  {
   "cell_type": "code",
   "execution_count": null,
   "metadata": {},
   "outputs": [],
   "source": [
    "#Ahora vamos a crear una tupla, como ven son muy parecidas a las listas solo que se definen entre ()\n",
    "mi_primer_tuple = tuple([1, 2])\n",
    "mi_primer_tuple\n",
    "type(mi_primer_tuple)"
   ]
  },
  {
   "cell_type": "code",
   "execution_count": null,
   "metadata": {},
   "outputs": [],
   "source": [
    "#Aqui estoy creando otra tupla de ejemplo\n",
    "otra_tuple = ('hola', 'mundo')\n",
    "otra_tuple"
   ]
  },
  {
   "cell_type": "code",
   "execution_count": null,
   "metadata": {},
   "outputs": [],
   "source": [
    "#Se pueden crear incluso sin los ()\n",
    "tupla = 1,2,3"
   ]
  },
  {
   "cell_type": "code",
   "execution_count": null,
   "metadata": {},
   "outputs": [],
   "source": [
    "#sin embargo al imprimir veremos que Python por default guarda entre ()\n",
    "tupla"
   ]
  },
  {
   "cell_type": "code",
   "execution_count": null,
   "metadata": {},
   "outputs": [],
   "source": [
    "#Aqui podemos validar que lo que creamos sin () es una tupla\n",
    "type(tupla)"
   ]
  },
  {
   "cell_type": "code",
   "execution_count": null,
   "metadata": {},
   "outputs": [],
   "source": [
    "#Extracción de un elemento de la tupla \n",
    "print(tupla[0])"
   ]
  },
  {
   "cell_type": "code",
   "execution_count": null,
   "metadata": {},
   "outputs": [],
   "source": [
    "# Imposibilidad de redefinir un valor dentro de una tupla \n",
    "tupla[0] = 2"
   ]
  }
 ],
 "metadata": {
  "kernelspec": {
   "display_name": "Python 3",
   "language": "python",
   "name": "python3"
  },
  "language_info": {
   "codemirror_mode": {
    "name": "ipython",
    "version": 3
   },
   "file_extension": ".py",
   "mimetype": "text/x-python",
   "name": "python",
   "nbconvert_exporter": "python",
   "pygments_lexer": "ipython3",
   "version": "3.7.6"
  }
 },
 "nbformat": 4,
 "nbformat_minor": 2
}
