{
 "cells": [
  {
   "cell_type": "markdown",
   "metadata": {},
   "source": [
    "## Sesión 4 - Introducción a Python"
   ]
  },
  {
   "cell_type": "markdown",
   "metadata": {},
   "source": [
    "### Estructuras de Datos /Colecciones en Python\n",
    "\n",
    "### Sets\n",
    "1. Es una colección desordenada de elementos únicos: se eliminan los duplicados.\n",
    "2. Es Iterable y mutable\n",
    "3. Los elementos se encuentran contenidos dentro de llaves {} y son separados por comas.\n",
    "4. Al ser desordenados, no se pueden extraer elementos dentro de ellos"
   ]
  },
  {
   "cell_type": "code",
   "execution_count": null,
   "metadata": {},
   "outputs": [],
   "source": [
    "# Definición de un conjunto(set)\n",
    "my_set ={'Data','Science','Data','Science',2,2,'python'}\n",
    "print(my_set)"
   ]
  },
  {
   "cell_type": "code",
   "execution_count": null,
   "metadata": {},
   "outputs": [],
   "source": [
    "#Diferencia entre una lista y un set\n",
    "mi_lista = ['Data','Data','Science','python','python',10,10]\n",
    "mi_lista"
   ]
  },
  {
   "cell_type": "code",
   "execution_count": null,
   "metadata": {},
   "outputs": [],
   "source": [
    "#Vamos a convertir nuestra lista a un set y ver que ocurre\n",
    "my_set = list(set(mi_lista))\n",
    "my_set"
   ]
  },
  {
   "cell_type": "code",
   "execution_count": null,
   "metadata": {},
   "outputs": [],
   "source": [
    "#Vamos a crear otro set para seguir probando\n",
    "otro_set = {10,10,'Hola','Programadores!','Cómo','están?','Cómo','Les fue?'}\n",
    "otro_set"
   ]
  },
  {
   "cell_type": "code",
   "execution_count": null,
   "metadata": {},
   "outputs": [],
   "source": [
    "#No es posible recuperar un elemento del conjunto\n",
    "otro_set[2]"
   ]
  },
  {
   "cell_type": "markdown",
   "metadata": {},
   "source": [
    "### Operaciones con Conjuntos (Set)\n"
   ]
  },
  {
   "cell_type": "code",
   "execution_count": null,
   "metadata": {},
   "outputs": [],
   "source": [
    "#Definimos 2 sets\n",
    "A = {0, 2, 4, 6, 8}\n",
    "B = {1, 2, 3, 4, 5}"
   ]
  },
  {
   "cell_type": "code",
   "execution_count": null,
   "metadata": {},
   "outputs": [],
   "source": [
    "#Unir los valores que hay en ambos sets \n",
    "A.union(B)"
   ]
  },
  {
   "cell_type": "code",
   "execution_count": null,
   "metadata": {},
   "outputs": [],
   "source": [
    "#Obtener los valores que tienen en común\n",
    "A.intersection(B)"
   ]
  },
  {
   "cell_type": "code",
   "execution_count": null,
   "metadata": {},
   "outputs": [],
   "source": [
    "#Encontrar los valores que tiene A diferentes que B\n",
    "A.difference(B)"
   ]
  },
  {
   "cell_type": "code",
   "execution_count": null,
   "metadata": {},
   "outputs": [],
   "source": [
    "#Encontrar los valores que tiene B diferentes que A\n",
    "B.difference(A)"
   ]
  },
  {
   "cell_type": "code",
   "execution_count": null,
   "metadata": {},
   "outputs": [],
   "source": [
    "#Obtiene un elemento de forma aleatoria del set y lo elimina\n",
    "A.pop()\n",
    "A"
   ]
  },
  {
   "cell_type": "code",
   "execution_count": null,
   "metadata": {},
   "outputs": [],
   "source": [
    "#Si quisieramos guardar ese valor entonces haríamos lo siguiente:\n",
    "valor = A.pop()\n",
    "print(A)\n",
    "print(valor)"
   ]
  },
  {
   "cell_type": "markdown",
   "metadata": {},
   "source": [
    "### Estructuras de Datos /Colecciones en Python\n",
    "\n",
    "### Diccionarios\n",
    "1. Es una coleccion desordenada de elementos pareados: una llave e información asignada.\n",
    "\n",
    "2. Estan optimizados para recuperar la información siempre y cuando se conozca la llave qu se desea. \n",
    "\n",
    "3. Contenidos entre llaves {}, cada uno de los pares poseen la estructura llave:información y son separados con comas. "
   ]
  },
  {
   "cell_type": "code",
   "execution_count": null,
   "metadata": {},
   "outputs": [],
   "source": [
    "#Definicion de un diccionario simple \n",
    "ficha_bibliografica = {\"Nombre\" : \"Alejandro\", \"Edad\" : 26,\n",
    "                       \"Apellido\" : \"Pérez\",\"Sexo\": 'Masculino'}"
   ]
  },
  {
   "cell_type": "code",
   "execution_count": null,
   "metadata": {},
   "outputs": [],
   "source": [
    "#Validar que hemos creado un diccionario\n",
    "type(ficha_bibliografica)"
   ]
  },
  {
   "cell_type": "code",
   "execution_count": null,
   "metadata": {},
   "outputs": [],
   "source": [
    "# Recuperación del nombre dentro del diccionario \n",
    "print(ficha_bibliografica['Nombre'])"
   ]
  },
  {
   "cell_type": "code",
   "execution_count": null,
   "metadata": {},
   "outputs": [],
   "source": [
    "# Recuperación del sexo dentro del diccionario \n",
    "print(ficha_bibliografica['Sexo'])"
   ]
  },
  {
   "cell_type": "code",
   "execution_count": null,
   "metadata": {},
   "outputs": [],
   "source": [
    "# Recuperación del apellido dentro del diccionario \n",
    "ficha_bibliografica['Apellido']"
   ]
  },
  {
   "cell_type": "code",
   "execution_count": null,
   "metadata": {},
   "outputs": [],
   "source": [
    "# Recuperación de la edad dentro del diccionario \n",
    "ficha_bibliografica['Edad']"
   ]
  },
  {
   "cell_type": "code",
   "execution_count": null,
   "metadata": {},
   "outputs": [],
   "source": [
    "# Podemos definir un diccionario donde se utilicen diccionarios como \n",
    "#informacion contenida\n",
    "Alumnos={\n",
    "    'ID00003':{'Nombre':'Alejandro','Apellido':'López'},\n",
    "    'ID00002':{'Nombre':'Israel','Apellido':'Martínez'},\n",
    "    'ID00001':{'Nombre':'Luis','Apellido':'Garza'},\n",
    "    }"
   ]
  },
  {
   "cell_type": "code",
   "execution_count": null,
   "metadata": {},
   "outputs": [],
   "source": [
    "#Recuperación de la información de un alumno específico  \n",
    "print(Alumnos['ID00002'])"
   ]
  },
  {
   "cell_type": "code",
   "execution_count": null,
   "metadata": {},
   "outputs": [],
   "source": [
    "#Recuperación del apellido de un alumno \n",
    "print(Alumnos['ID00002']['Apellido'])"
   ]
  },
  {
   "cell_type": "code",
   "execution_count": null,
   "metadata": {},
   "outputs": [],
   "source": [
    "#ahora haremos un diccionario de Estados y sus capitales\n",
    "estados_caps_dict = {'Tamaulipas': 'Cd Victoria', 'Nuevo León': 'Monterrey', 'Jalisco': 'Guadalajara'}\n",
    "estados_caps_dict"
   ]
  },
  {
   "cell_type": "code",
   "execution_count": null,
   "metadata": {},
   "outputs": [],
   "source": [
    "#Añadiremos un elemento mas al diccionario\n",
    "estados_caps_dict = {\n",
    "    'Tamaulipas':{'Capital': 'Cd Victoria','Poblacion':100000}, \n",
    "    'Nuevo León':{'Capital':'Monterrey','Poblacion':4000000}\n",
    "}"
   ]
  },
  {
   "cell_type": "code",
   "execution_count": null,
   "metadata": {},
   "outputs": [],
   "source": [
    "#ahora vamos a obtener la Capital del estado Tamaulipas\n",
    "estados_caps_dict['Tamaulipas']['Capital']"
   ]
  },
  {
   "cell_type": "code",
   "execution_count": null,
   "metadata": {},
   "outputs": [],
   "source": [
    "#y ahora su poblacion \n",
    "estados_caps_dict['Tamaulipas']['Poblacion']"
   ]
  },
  {
   "cell_type": "code",
   "execution_count": null,
   "metadata": {},
   "outputs": [],
   "source": [
    "#Preguntar si un elemento se encuentra en el diccionario\n",
    "estados_caps_dict.get('Durango','No se encuentra')"
   ]
  },
  {
   "cell_type": "markdown",
   "metadata": {},
   "source": [
    "Arriba, le preguntamos a estados_caps_dict el valor asociado con la clave 'Durango', y le dijimos que devolviera 'No se encuentra' si la palabra clave no estaba en el diccionario. Y obtuvimos \"No se encuentra\". Esto tiene sentido porque sabemos que 'Durango' no está en el diccionario."
   ]
  },
  {
   "cell_type": "code",
   "execution_count": null,
   "metadata": {},
   "outputs": [],
   "source": [
    "#para obtener las claves de los diccionarios (key:value)\n",
    "estados_caps_dict.keys()"
   ]
  },
  {
   "cell_type": "code",
   "execution_count": null,
   "metadata": {},
   "outputs": [],
   "source": [
    "#para obtener los valores de cada key\n",
    "estados_caps_dict.values()"
   ]
  },
  {
   "cell_type": "code",
   "execution_count": null,
   "metadata": {},
   "outputs": [],
   "source": [
    "#Para ver todos los elementos key:value en el diccionario\n",
    "estados_caps_dict.items()"
   ]
  },
  {
   "cell_type": "code",
   "execution_count": null,
   "metadata": {},
   "outputs": [],
   "source": [
    "#para eliminar un valor del diccionario\n",
    "del estados_caps_dict['Tamaulipas']\n",
    "estados_caps_dict"
   ]
  },
  {
   "cell_type": "code",
   "execution_count": null,
   "metadata": {},
   "outputs": [],
   "source": [
    "estados_caps_dict"
   ]
  },
  {
   "cell_type": "code",
   "execution_count": null,
   "metadata": {},
   "outputs": [],
   "source": [
    "#con el .pop() busca la palabra clave que le pasemos, si la encuentra la elimina\n",
    "#si no devuelve un error\n",
    "valor = estados_caps_dict.pop('Nuevo León')\n",
    "print(estados_caps_dict)\n",
    "print(valor)"
   ]
  }
 ],
 "metadata": {
  "kernelspec": {
   "display_name": "Python 3",
   "language": "python",
   "name": "python3"
  },
  "language_info": {
   "codemirror_mode": {
    "name": "ipython",
    "version": 3
   },
   "file_extension": ".py",
   "mimetype": "text/x-python",
   "name": "python",
   "nbconvert_exporter": "python",
   "pygments_lexer": "ipython3",
   "version": "3.7.3"
  }
 },
 "nbformat": 4,
 "nbformat_minor": 2
}
