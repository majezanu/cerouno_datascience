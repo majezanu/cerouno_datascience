{
 "cells": [
  {
   "cell_type": "markdown",
   "metadata": {},
   "source": [
    "# ¡Bienvenidos a la primera semana de Mastery Data Science!\n",
    "\n",
    "\n",
    "## ¿Y para que sirve Python?\n",
    "\n",
    "Python es un lenguaje de programación interpretado de alto nivel; el hecho de que es interpretado hace que este sea flexible en su ejecución y el alto nivel nos habla de que está alejado del lenguaje de máquina (asociado a 0's y 1's). Por lo tanto tenemos que Python en su núcleo es un lenguaje de programación de alto nivel y fácil ejecución para humanos; ahora en cuanto a las aplicaciones de Python estas son bastante diversas (tiene muchos casos de uso). Seguramente ya han escuchado de su uso en la ciencia de datos (englobando Machine y Deep Learning) en el cual vamos a profundizar más adelante, pero Python también tiene grandes aplicaciones en el manejo de páginas web (back-end). Youtube, Instagram y Facebook son solo algunos de los nombres de páginas cuyo back-end está hecho en Python. Asimismo, Python puede ser utilizado para realizar pequeñas aplicaciones Web que terminen facilitando las labores en la empresa.\n",
    "\n",
    "\n",
    "## 1.- ¿Por qué Python para la ciencia de datos?\n",
    "\n",
    "Python puede ser utilizado para la ciencia de datos debido a que permite el diseño e implementación de servicios web, bases de datos, manejo y procesamiento de datos. Asimismo cuenta con un gran número de librerias mantenidas por la comunidad que extienden y especializan su funcionalidad para aplicaciones orientadas al manejo de datos. Tomando todo esto en cuenta se puede ver que en combinación con los trabajos de la comunidad Python es una herramienta bastante robusta y completa para cargar, procesar, transformar y analizar datos para la toma de decisiones en una empresa.\n",
    "\n",
    "https://www.quora.com/Why-is-Python-a-language-of-choice-for-data-scientists\n",
    "\n",
    "> \"The Python community invested in the mid-1990s in Numeric, an \"extension to Python to support numeric analysis as naturally as [M]atlab does\". Numeric later evolved into NumPy. Several years later, the plotting functionality from Matlab was ported to Python with matplotlib. Libraries for scientific computing were built around NumPy and matplotlib and bundled into the SciPy package, which was commercially supported by Enthought. Python's support for Matlab-like array manipulation and plotting is a major reason to prefer it over Perl and Ruby.\n",
    "\n",
    "> Today, the most popular alternatives to Python for data scientists are R, Matlab/Octave, and Mathematica/Sage. In addition to the work mentioned above to port features from Matlab into Python, recent work has ported several popular features from R and Mathematica into Python.\n",
    "\n",
    "> From R, the data frame and associated manipulations (from the plyr and reshape packages) have been implemented by the pandas library. The scikit-learn project presents a common interface to many machine learning algorithms, similar to the caret package in R.\"\n",
    "\n",
    "<div align=\"right\"><b>-Jeff Hammerbacher, Professor at Hammer Lab, founder at Cloudera, investor at Techammer</b></div>\n",
    "\n",
    "### ¿Por que usar Python?\n",
    "\n",
    "Python cuenta con muchas ventajas si lo comparamos con otras herramientas; para comenzar, Python es gratis entonces si se quieren realizar pruebas dentro de un ambiente empresarial esto no consumiría recursos económicos de la empresa. \n",
    "\n",
    "Otra ventaja poderosa es el gran número de usuarios que tiene (esto de gran forma propiciado por ser una herramienta gratuita); esto tiene como consecuencia 2 cosas: La primera es que existe una gran cantidad de documentación que lidia con errores comunes y aplicaciones del lenguaje en distintos contextos. La segunda es que al tener a un gran número de contribuidores nuevas herramientas y librerias se vuelven disponibles en un corto tiempo.\n",
    "\n",
    "### Paradoja del martillo (Si un niño tiene un martillo va a tratar de martillar todo)\n",
    "Hemos hablado de la gran herramienta que es Python; sin embargo, un cientifico de datos no utiliza solamente una herramienta para resolver todos los problemas Para cuestiones de visualización y análisis exploratorio de una forma gráfica las herramientas de BI como Tableau o Qlik Viewer son una solución que superan a Python por mucho. Asimismo si quieres un enfoque más estadístico que enfocado a Machine Learning R es la herramienta apropiada o puede ser que utilices SAS o Minitab. Aunque en este curso el enfoque fuerte es Python, y algo de Tableau, recuerden que en el mundo real no están limitados en las herramientas a utilizar."
   ]
  },
  {
   "cell_type": "markdown",
   "metadata": {},
   "source": [
    "### Herramientas que estaremos utilizando a lo largo del Curso:\n",
    ">Anaconda\n",
    "\n",
    ">Jupyter notebook/ Jupyter Lab\n",
    "\n",
    ">Librerías de Python\n",
    "\n",
    ">Visual Studio Code"
   ]
  },
  {
   "cell_type": "markdown",
   "metadata": {},
   "source": [
    "### ¿Qué es Anaconda? "
   ]
  },
  {
   "cell_type": "markdown",
   "metadata": {},
   "source": [
    "Anaconda es un distribución libre y abierta de los lenguajes Python y R, utilizada en ciencia de datos, y aprendizaje automático.\n",
    "\n",
    "Anaconda nos provee de una caja de herramientas bastante bien surtida para la Ciencia de Datos, pero lo más importante es que nos brinda agilidad para trabajar rápida y fácilmente en muchos problemas diferentes, y flexibilidad para personalizar las herramientas que tiene disponibles a través del sistema de administración de paquetes Conda(conda install conda-forge/pip install).\n",
    "\n",
    "Windows, Mac y Linux: todos pueden trabajar desde el mismo punto de partida. No se requieren derechos de administrador, no interfiere con el software y las herramientas que ya ha instalado.\n",
    "\n",
    "https://anaconda.org/"
   ]
  },
  {
   "cell_type": "markdown",
   "metadata": {},
   "source": [
    "### ¿Jupyter Notebook?"
   ]
  },
  {
   "cell_type": "markdown",
   "metadata": {},
   "source": [
    "1. Será nuestro ambiente de pruebas y desarrollo.\n",
    "\n",
    "2. Cada bloque de código que ejecutemos nos dará un resultado, si es que así lo hemos indicado.\n",
    "\n",
    "3. Podemos hacer operaciones y pruebas rápidas.\n",
    "\n",
    "4. Podemos visualizar fácilmente los resultados.\n",
    "\n",
    "5. Nos permite hacer nuestros EDA (Análisis Exploratorio de Datos).\n",
    "\n",
    "6. Nos permite correr modelos de Machine Learning y Deep Learning.\n",
    "\n",
    "7. Nos ayuda a hacer la ingesta y manipulación de Datos.\n",
    "\n",
    "8. Nos permite hacer gráficos para presentar resultados.\n",
    "\n",
    "9. Es nuestra interfaz de desarrollo.\n",
    "\n",
    "#### ¿Como abrir Jupyter notebook?\n",
    "\n",
    "1. Abrir Anaconda Prompt\n",
    "2. Escribir Jupyter notebook\n",
    "3. Enter\n",
    "\n",
    "\n",
    "<img src=\"files/anaconda2.png\">"
   ]
  },
  {
   "cell_type": "markdown",
   "metadata": {},
   "source": [
    "#### Otra opcion para abrir anaconda es desde Anaconda Navigator\n",
    "\n",
    "\n",
    "<img src=\"files/navigator.png\">"
   ]
  },
  {
   "cell_type": "markdown",
   "metadata": {},
   "source": [
    "Una vez iniciado Jupyter notebook les desplegará las carpetas de su computadora Local.\n",
    "\n",
    "Deben seleccionar una carpeta donde vayan a hacer su trabajo/desarrollo o curso, y en esa carpeta ir creando los archivos correspondientes."
   ]
  },
  {
   "cell_type": "markdown",
   "metadata": {},
   "source": [
    "Una vez que tengan identificada la carpeta donde van a comenzar a trabajar:\n",
    "    \n",
    "    1. Den click en New > Python3 \n",
    "    y Listo! Su Primer libreta de Python estará creada y lista para ser utilizada por nosotros!\n",
    "    \n",
    "    \n",
    "<img src=\"files/newfile.png\">"
   ]
  },
  {
   "cell_type": "markdown",
   "metadata": {},
   "source": [
    "#### Indicaciones Generales de como ejecutar código en Jupyter notebook.\n",
    "    \n",
    "    1. SHIFT-ENTER para ejecutar una celda e ir a la siguiente celda\n",
    "    2. CTRL-ENTER ejecutar una celda pero mantenerse en la misma celda\n",
    "    3. ALT-ENTER para ejecutar una celda e insertar una nueva celda\n",
    "    4. Click en botón \"Help>Keyboard shortcuts\" para conocer más instrucciones"
   ]
  },
  {
   "cell_type": "code",
   "execution_count": null,
   "metadata": {},
   "outputs": [],
   "source": [
    "print('Ejecuta está celda con SHIFT-ENTER')"
   ]
  },
  {
   "cell_type": "code",
   "execution_count": null,
   "metadata": {},
   "outputs": [],
   "source": [
    "print('Ejecuta está celda con CTRL-ENTER')"
   ]
  },
  {
   "cell_type": "code",
   "execution_count": null,
   "metadata": {},
   "outputs": [],
   "source": [
    "print('Ejecuta está celda con ALT-ENTER')"
   ]
  },
  {
   "cell_type": "code",
   "execution_count": null,
   "metadata": {},
   "outputs": [],
   "source": [
    "#### '¿Notaron la diferencia?'"
   ]
  },
  {
   "cell_type": "markdown",
   "metadata": {},
   "source": [
    "### Librerias de Python"
   ]
  },
  {
   "cell_type": "markdown",
   "metadata": {},
   "source": [
    "Una Libreria es una colección de archivos (llamados módulos) que contiene funciones para el uso de otros programas.\n",
    "\n",
    "Durante el curso vamos a utilizar librerias de manipulación de datasets, webscrapping, visualización de datos, ML y DL.\n",
    "\n",
    "En donde encontrar los comandos para instalar las librerias?\n",
    "En https://anaconda.org/\n",
    "\n",
    "    \n",
    "<img src=\"files/libraries.png\">"
   ]
  },
  {
   "cell_type": "markdown",
   "metadata": {},
   "source": [
    "### Al dar click en alguna opción nos va a desplegar los comandos que debemos ejecutar en Anaconda Prompt para hacer la instalación de la libreria que vayamos a necesitar.\n",
    "\n",
    "<img src=\"files/ejemplo_instalar.png\">"
   ]
  },
  {
   "cell_type": "markdown",
   "metadata": {},
   "source": [
    "### Visual Studio Code"
   ]
  },
  {
   "cell_type": "markdown",
   "metadata": {},
   "source": [
    "Es un editor de código fuente.\n",
    "\n",
    "<img src=\"files/vscode_1.png\">"
   ]
  },
  {
   "cell_type": "markdown",
   "metadata": {},
   "source": [
    "## Para comenzar, tenemos que crear un entorno virtual.\n",
    "\n",
    "Un entorno virtual se puede definir como una instalación específica y aislada de software; es como encapsular la instalación en un contenedor para poder realizar pruebas de forma aislada sin afectar el funcionamiento del resto del sistema o el resto de la instalación. En el contexto de Python esto permite trabajar con versiones especificas de Python (En lugar de la 3.7.3 trabajas con la 3.6.1) e instalar versiones específicas de de cualquier paquete que soporte esa versión.\n",
    "\n",
    "¿Por que queremos un entorno virtual?\n",
    "1. Puedes usar versiones estables de paquetes.\n",
    "2. Te interesa usar funciones depreciadas.\n",
    "3. Tu proyecto está basado en una versión vieja.\n",
    "4. Te permite instalar paquetes raros sin matar tu instalación global.\n"
   ]
  },
  {
   "cell_type": "markdown",
   "metadata": {},
   "source": [
    "1. Creación del entorno virtual"
   ]
  },
  {
   "cell_type": "code",
   "execution_count": null,
   "metadata": {},
   "outputs": [],
   "source": [
    "conda create -n CursoCEROUNO  #Para crear un nuevo entorno virtual   \n",
    " \n",
    "conda env list      #para ver un listado de los ambientes que hemos creado\n",
    "\n",
    "conda activate CursoCEROUNO  #para activar el entorno virtual\n",
    "\n",
    "conda deactivate       #para desactivar el entorno virtual"
   ]
  },
  {
   "cell_type": "markdown",
   "metadata": {},
   "source": [
    "### Ahora si empecemos a programar!"
   ]
  },
  {
   "cell_type": "markdown",
   "metadata": {},
   "source": [
    "Empecemos por lo mas básico. "
   ]
  },
  {
   "cell_type": "code",
   "execution_count": null,
   "metadata": {},
   "outputs": [],
   "source": [
    "print('Hola a todos!')"
   ]
  },
  {
   "cell_type": "markdown",
   "metadata": {},
   "source": [
    "Acabamos de ejecutar nuestra primer impresión en python!"
   ]
  },
  {
   "cell_type": "markdown",
   "metadata": {},
   "source": [
    "#### Ahora qué es lo que acabamos de imprimir? Es un objeto en Python. Un objeto que se denomina como un string.\n",
    "\n",
    "¿Qué son los Strings?\n",
    "\n",
    "1. Son secuencia de caractéres Unicode.\n",
    "\n",
    "2. Pueden ser específicados medinate el uso de comillas sencillas o dobles, mientras que para strings en multiples lineas se indican con triple comillas.\n",
    "\n",
    "3. Podemos extraer un cierto elemento del string mediante el uso de corchetes, pero son inmutables como las tuplas.\n",
    "\n",
    "¡Importante!: En Python no existe el tipo \"char\", un sólo carácter es un string de tamaño 1"
   ]
  },
  {
   "cell_type": "code",
   "execution_count": null,
   "metadata": {},
   "outputs": [],
   "source": [
    "# Definición de un string \n",
    "#Podemos definirlo entre comilla simple o comilla doble\n",
    "\n",
    "mi_string='¡Hola mundo!' \n",
    "\n",
    "mi_string2=\"¡Hola mundo!\"\n",
    "\n",
    "print(mi_string)\n",
    "\n",
    "print(mi_string2)"
   ]
  },
  {
   "cell_type": "code",
   "execution_count": null,
   "metadata": {},
   "outputs": [],
   "source": [
    "#para válidar que efectivamente mi objeto es un string utilizo la funcion type()\n",
    "type(mi_string)"
   ]
  },
  {
   "cell_type": "code",
   "execution_count": null,
   "metadata": {},
   "outputs": [],
   "source": [
    "type(mi_string2)"
   ]
  },
  {
   "cell_type": "code",
   "execution_count": null,
   "metadata": {},
   "outputs": [],
   "source": [
    "#Para poder introducir comillas simples en un string usamos comillas dobles \n",
    "\n",
    "#Para poder introducir comillas simples en un string usamos comillas simples \n",
    "comillas_simples = 'permite usar \"comillas\" dobles'\n",
    "\n",
    "comillas_dobles = \"permite usar 'comillas' simples\"\n",
    "\n",
    "print(comillas_simples)\n",
    "\n",
    "print(comillas_dobles)"
   ]
  },
  {
   "cell_type": "markdown",
   "metadata": {},
   "source": [
    "### Operaciones sencillas con strings"
   ]
  },
  {
   "cell_type": "markdown",
   "metadata": {},
   "source": [
    "#### Nota: En Python el index inicia en 0"
   ]
  },
  {
   "cell_type": "code",
   "execution_count": null,
   "metadata": {},
   "outputs": [],
   "source": [
    "print(mi_string)\n",
    "\n",
    "#En referencia a la nota anterior significa lo siguiente:\n",
    "#El signo ¡ es la posición 0, la letra H es la posición 1, la letra o es la posición 3, y así sucesivamente."
   ]
  },
  {
   "cell_type": "code",
   "execution_count": null,
   "metadata": {},
   "outputs": [],
   "source": [
    "#Ahora teniendo esto en mente vamos a realizar operaciones sencillas sobre el string que previamente definimos.\n",
    "\n",
    "\n",
    "#Extraer el elemento 0 del string\n",
    "mi_string[0]"
   ]
  },
  {
   "cell_type": "code",
   "execution_count": null,
   "metadata": {},
   "outputs": [],
   "source": [
    "#Extraer el elemento 0 del string\n",
    "mi_string[4]"
   ]
  },
  {
   "cell_type": "code",
   "execution_count": null,
   "metadata": {},
   "outputs": [],
   "source": [
    "#Extraer del elemento 3 en adelante\n",
    "print(mi_string[3:])"
   ]
  },
  {
   "cell_type": "code",
   "execution_count": null,
   "metadata": {},
   "outputs": [],
   "source": [
    "#Extraer del elemento 4 en adelante\n",
    "mi_string[4:]"
   ]
  },
  {
   "cell_type": "code",
   "execution_count": null,
   "metadata": {},
   "outputs": [],
   "source": [
    "#Extraer a partir del elemento 0 hasta el 3\n",
    "mi_string[0:4]"
   ]
  },
  {
   "cell_type": "code",
   "execution_count": null,
   "metadata": {},
   "outputs": [],
   "source": [
    "#Extraer a partir del elemento 5 hasta uno antes del último\n",
    "mi_string[5:-1]"
   ]
  },
  {
   "cell_type": "code",
   "execution_count": null,
   "metadata": {},
   "outputs": [],
   "source": [
    "#Extraer el último elemento de mi string\n",
    "mi_string[-1]"
   ]
  },
  {
   "cell_type": "code",
   "execution_count": null,
   "metadata": {},
   "outputs": [],
   "source": [
    "mi_string[0:-1:2] #dando brincos de 2"
   ]
  },
  {
   "cell_type": "code",
   "execution_count": null,
   "metadata": {},
   "outputs": [],
   "source": [
    "# Imposibilidad de redefinir un valor dentro de un string\n",
    "mi_string[3] = 'k'"
   ]
  },
  {
   "cell_type": "code",
   "execution_count": null,
   "metadata": {},
   "outputs": [],
   "source": [
    "#Puedes concatenar 2 strings\n",
    "mi_string+mi_string"
   ]
  },
  {
   "cell_type": "code",
   "execution_count": null,
   "metadata": {},
   "outputs": [],
   "source": [
    "#Puedes hacer las siguiente operación con strings\n",
    "mi_string*3"
   ]
  },
  {
   "cell_type": "code",
   "execution_count": null,
   "metadata": {},
   "outputs": [],
   "source": [
    "#la resta no está permitida en strings\n",
    "mi_string-mi_string"
   ]
  },
  {
   "cell_type": "code",
   "execution_count": null,
   "metadata": {},
   "outputs": [],
   "source": [
    "#La función len() te permite obtener la longitud de tu string\n",
    "len(mi_string)"
   ]
  },
  {
   "cell_type": "markdown",
   "metadata": {},
   "source": [
    "#### Nota: Las funciones hacen operaciones sobre tus objetos."
   ]
  },
  {
   "cell_type": "code",
   "execution_count": null,
   "metadata": {},
   "outputs": [],
   "source": [
    "#Para dividir tu strin en palabras u caracteres\n",
    "mi_string.split()"
   ]
  },
  {
   "cell_type": "code",
   "execution_count": null,
   "metadata": {},
   "outputs": [],
   "source": [
    "#Reemplazar una letra o carácter del string\n",
    "mi_string.replace('!','***')"
   ]
  },
  {
   "cell_type": "code",
   "execution_count": null,
   "metadata": {},
   "outputs": [],
   "source": [
    "#sin embargo no permanece el cambio, si quiseras que el cambio se viera reflejado la proxima vez, tendrías que sobreescribir\n",
    "#la variable por ejemplo vamos a imprimir nuevamente mi_string\n",
    "print(mi_string)\n",
    "\n",
    "#Como vemos no se guardo el ***"
   ]
  },
  {
   "cell_type": "code",
   "execution_count": null,
   "metadata": {},
   "outputs": [],
   "source": [
    "#Pero alhacer lo siguiente se guarda \n",
    "mi_string = mi_string.replace('!','***')\n",
    "print(mi_string)"
   ]
  },
  {
   "cell_type": "code",
   "execution_count": null,
   "metadata": {},
   "outputs": [],
   "source": [
    "#hay una función en python que te permite ingresar texto \n",
    "input()"
   ]
  },
  {
   "cell_type": "code",
   "execution_count": 2,
   "metadata": {},
   "outputs": [
    {
     "name": "stdout",
     "output_type": "stream",
     "text": [
      "¿Cuál es tu nombre? Jessica\n"
     ]
    }
   ],
   "source": [
    "#Puedes guardar este texto en una variable y hacer operaciones con ella, Por ejemplo:\n",
    "nombre = input('¿Cuál es tu nombre? ')"
   ]
  },
  {
   "cell_type": "code",
   "execution_count": 3,
   "metadata": {},
   "outputs": [
    {
     "name": "stdout",
     "output_type": "stream",
     "text": [
      "Su nombre es Jessica\n"
     ]
    }
   ],
   "source": [
    "print('Su nombre es',nombre)"
   ]
  },
  {
   "cell_type": "code",
   "execution_count": 4,
   "metadata": {},
   "outputs": [
    {
     "name": "stdout",
     "output_type": "stream",
     "text": [
      "Su nombre es Jessica\n"
     ]
    }
   ],
   "source": [
    "print('Su nombre es '+nombre)"
   ]
  },
  {
   "cell_type": "code",
   "execution_count": 5,
   "metadata": {},
   "outputs": [
    {
     "data": {
      "text/plain": [
       "'JESSICA'"
      ]
     },
     "execution_count": 5,
     "metadata": {},
     "output_type": "execute_result"
    }
   ],
   "source": [
    "#Otra función es convertir un string a MAYUSCULAS\n",
    "nombre.upper()"
   ]
  },
  {
   "cell_type": "code",
   "execution_count": 7,
   "metadata": {},
   "outputs": [
    {
     "data": {
      "text/plain": [
       "'jessica'"
      ]
     },
     "execution_count": 7,
     "metadata": {},
     "output_type": "execute_result"
    }
   ],
   "source": [
    "#Otra función es convertir un string a minusculas\n",
    "nombre.lower()"
   ]
  },
  {
   "cell_type": "markdown",
   "metadata": {},
   "source": [
    "## Ejercicios para prácticar en clase\n",
    "\n",
    "1. Crea un string con la frase \"Estoy programando en Python!\"\n",
    "2. Obten la longitud de tu string e imprimelo\n",
    "3. obten la palabra \"Programando\" y guardala en una variable llamada test_string.\n",
    "4. Reemplaza las letras 'a' por un carácter (!*%) el que tu quieras\n",
    "5. Cambia la frase a letras mayusculas\n",
    "6. Cambia la frase a letras minusculas\n",
    "#### Haz cada ejercicio en un bloque de código diferente\n"
   ]
  },
  {
   "cell_type": "code",
   "execution_count": null,
   "metadata": {},
   "outputs": [],
   "source": []
  }
 ],
 "metadata": {
  "kernelspec": {
   "display_name": "Python 3",
   "language": "python",
   "name": "python3"
  },
  "language_info": {
   "codemirror_mode": {
    "name": "ipython",
    "version": 3
   },
   "file_extension": ".py",
   "mimetype": "text/x-python",
   "name": "python",
   "nbconvert_exporter": "python",
   "pygments_lexer": "ipython3",
   "version": "3.7.3"
  }
 },
 "nbformat": 4,
 "nbformat_minor": 2
}
