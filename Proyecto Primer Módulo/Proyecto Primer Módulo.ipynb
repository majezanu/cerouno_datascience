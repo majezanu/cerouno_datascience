{
 "cells": [
  {
   "cell_type": "markdown",
   "metadata": {},
   "source": [
    "# Proyecto del primer módulo.\n",
    "\n",
    "Sean bienvenidos al nuevo startup del momento llamado DataSense Inc.; ustedes han sido contratados como analistas de datos en el área de tecnología. En esta área ya hay 4 analistas encargados de otras áreas de la empresa por lo cual a ti te fue asignada la labor de analizar los datos del departamento de ventas; al llegar en tu primer día caes en cuenta que los empleados están usando diversas herramientas para realizar el análisis. Algunos utilizan Excel, otros utilizan Google Sheets pero ambas opciones son ya sea licencias personales o licencias ilegales; por lo tanto, su jefe les ha dicho que busquen una herramienta que pueda trabajar, editar y manipular estos archivos ya que la herramienta será implementada en toda la empresa. Mientras los otros 4 analistas debaten entre utilizar Excel o Sheets tu recuerdas haber visto que Python puede ser utilizado para analizar estos tipos de archivos; por lo tanto instalas Anaconda y comienzas a trabajar con los archivos fundamentales.\n",
    "\n",
    "## Parte 1\n",
    "En esta parte solo puedes utilizar Python vanilla (y el paquete csv para abrir el archivo Business Data.csv); aquí vas a demostrar tus conocimientos de Python básico."
   ]
  },
  {
   "cell_type": "code",
   "execution_count": 2,
   "metadata": {},
   "outputs": [],
   "source": [
    "import csv"
   ]
  },
  {
   "cell_type": "markdown",
   "metadata": {},
   "source": [
    "1. Carga el archivo csv a Python usando código vanilla (no importes más paquetes)."
   ]
  },
  {
   "cell_type": "code",
   "execution_count": 3,
   "metadata": {
    "scrolled": true
   },
   "outputs": [
    {
     "name": "stdout",
     "output_type": "stream",
     "text": [
      "[['\\ufeffNombre', 'Edad', 'Sexo', 'Area', 'Posición', 'Sueldo'], ['Blanca Teresa Ortiz', '45', 'F', 'Tecnología', 'Developer', '25000'], ['Verónica Morales', '44', 'F', 'Tecnología', 'Administrador de DB', '24000'], ['Roberto Flores', '48', 'M', 'Ventas', 'Marketing', '16000'], ['Patricia Pérez', '42', 'F', 'Ventas', 'Gerente de Ventas', '40000'], ['Francisco Eduardo Torres', '43', 'M', 'Tecnología', 'Gerente de Tecnología', '41000'], ['María Valdez', '42', 'F', 'Ventas', 'Contaduría', '23000'], ['Ignacio Heriberto Rodríguez', '42', 'M', 'Ventas', 'Vendedor', '9000'], ['Edgar Jiménez', '38', 'M', 'Ventas', 'Gerente de Contaduría', '35000'], ['Liliana Díaz', '38', 'F', 'Tecnología', 'Developer', '24000'], ['Rebeca Vázquez', '38', 'F', 'Tecnología', 'Coordinación de DB', '28000'], ['Victor Kevin Flores', '37', 'M', 'Tecnología', 'Coordinador', '25000'], ['Georgina Zárate', '35', 'F', 'Ventas', 'Marketing', '16000'], ['Heriberto Mendoza', '36', 'M', 'Tecnología', 'Administrador de DB', '23000'], ['Miguel Gómez', '35', 'M', 'Ventas', 'Vendedor', '8750'], ['Bruno Álvarez', '36', 'M', 'Tecnología', 'Analista', '16000'], ['Rodrigo Felipe Montes', '35', 'M', 'Tecnología', 'Developer', '23000'], ['Adriana Martínez', '34', 'F', 'Ventas', 'Vendedor', '8750'], ['Luis Enrique Lazcón', '35', 'M', 'Tecnología', 'Analista', '15000'], ['Eduardo Treviño', '33', 'M', 'Ventas', 'Coordinador', '16000'], ['Ramiro Treviño', '28', 'M', 'Tecnología', 'Developer', '22000'], ['Lucía María González', '26', 'F', 'Tecnología', 'Analista', '13750'], ['María Ester Cuevas', '33', 'F', 'Ventas', 'Coordinador', '17000'], ['María Guadalupe Villarreal', '29', 'F', 'Ventas', 'Vendedor', '8500'], ['Patricia Reyes', '26', 'F', 'Tecnología', 'Analista', '13750'], ['Tadeo Gutierrez', '28', 'M', 'Ventas', 'Vendedor', '8300'], ['Nadia Rodriguez', '25', 'F', 'Tecnología', 'Analista', '13500'], ['Jorge Martínez ', '27', 'M', 'Ventas', 'Marketing', '14000'], ['Roberta Juárez', '27', 'F', 'Ventas', 'Contaduría', '18000'], ['Kevin Omar Carranza', '24', 'M', 'Tecnología', 'Administrador de DB', '20000'], ['Francisco Castañeda', '25', 'M', 'Ventas', 'Vendedor', '8000'], ['Juan Manuel Sandoval', '23', 'M', 'Tecnología', 'Analista', '13000'], ['Gilberto Manuel Potes', '21', 'M', 'Tecnología', 'Developer', '20000'], ['Felipe Torres', '21', 'M', 'Ventas', 'Vendedor', '7500'], ['Brenda Torres', '20', 'F', 'Tecnología', 'Developer', '19800'], ['Julissa Vázquez', '19', 'F', 'Ventas', 'Contaduría', '14000']]\n"
     ]
    }
   ],
   "source": [
    "with open('Business Data.csv') as file:\n",
    "    reader = csv.reader(file)\n",
    "    data = list(reader)\n",
    "print(data)"
   ]
  },
  {
   "cell_type": "markdown",
   "metadata": {},
   "source": [
    "2. Ahora explora tu objeto. Como es una lista de listas podemos acceder a 2 índices distintos."
   ]
  },
  {
   "cell_type": "code",
   "execution_count": 4,
   "metadata": {},
   "outputs": [],
   "source": [
    "#¿El primer índice nos da una columna del csv, o un reglón? \n",
    "# Un renglón"
   ]
  },
  {
   "cell_type": "code",
   "execution_count": 5,
   "metadata": {},
   "outputs": [
    {
     "name": "stdout",
     "output_type": "stream",
     "text": [
      "Los nombres de las columnas son: ['\\ufeffNombre', 'Edad', 'Sexo', 'Area', 'Posición', 'Sueldo']\n"
     ]
    }
   ],
   "source": [
    "#¿Cuales son los nombres de las columnas del archivo csv?\n",
    "headers = data[0]\n",
    "print(f'Los nombres de las columnas son: {headers}')"
   ]
  },
  {
   "cell_type": "code",
   "execution_count": 6,
   "metadata": {},
   "outputs": [
    {
     "name": "stdout",
     "output_type": "stream",
     "text": [
      "36\n"
     ]
    }
   ],
   "source": [
    "#Corre el comando len sobre tu lista de listas. ¿Que significa el resultado? \n",
    "# Es la cantidad de renglones\n",
    "data_len = len(data)\n",
    "print(data_len)"
   ]
  },
  {
   "cell_type": "code",
   "execution_count": 7,
   "metadata": {},
   "outputs": [
    {
     "name": "stdout",
     "output_type": "stream",
     "text": [
      "6\n"
     ]
    }
   ],
   "source": [
    "#¿Cuál es la longitud de las listas dentro de este objeto? \n",
    "# 6\n",
    "list_len = len(data[0])\n",
    "print(list_len)"
   ]
  },
  {
   "cell_type": "markdown",
   "metadata": {},
   "source": [
    "3. ¿Cuál es el tipo de datos que hay en cada columna? Strings ¿Hay alguna incongruencia? No"
   ]
  },
  {
   "cell_type": "code",
   "execution_count": 8,
   "metadata": {},
   "outputs": [
    {
     "name": "stdout",
     "output_type": "stream",
     "text": [
      "['Blanca Teresa Ortiz', '45', 'F', 'Tecnología', 'Developer', '25000']\n",
      "El campo Blanca Teresa Ortiz es un <class 'str'>\n",
      "El campo 45 es un <class 'str'>\n",
      "El campo F es un <class 'str'>\n",
      "El campo Tecnología es un <class 'str'>\n",
      "El campo Developer es un <class 'str'>\n",
      "El campo 25000 es un <class 'str'>\n"
     ]
    }
   ],
   "source": [
    "# Inspecciona la primera observación e imprime el tipo de dato en cada columna.\n",
    "first_row_data = data[1]\n",
    "print(first_row_data)\n",
    "for field in first_row_data:\n",
    "    print(f'El campo {field} es un {type(field)}')"
   ]
  },
  {
   "cell_type": "markdown",
   "metadata": {},
   "source": [
    "4. En nuestros datos hay algunas palabras que llevan acento; sin embargo, cuando estamos tratando con el usuario hay ocasiones en las que puede cometer errores con estos acentos o puede ser que escriba la palabra sin mayúscula."
   ]
  },
  {
   "cell_type": "code",
   "execution_count": 9,
   "metadata": {},
   "outputs": [],
   "source": [
    "# ¿Como se llama el proceso de transformar palabras para agruparlas? \n",
    "# Normalizar"
   ]
  },
  {
   "cell_type": "code",
   "execution_count": 10,
   "metadata": {},
   "outputs": [
    {
     "name": "stdout",
     "output_type": "stream",
     "text": [
      "esdrujula\n"
     ]
    }
   ],
   "source": [
    "# Crea una función que reciba como argumento una palabra con mayúscula y acentos y que regrese la palabra con puras minúsculas y sin acentos. \n",
    "# Prueba la función con la palabra Esdrújula.\n",
    "char_tildes = (\n",
    "        (\"á\", \"a\"),\n",
    "        (\"é\", \"e\"),\n",
    "        (\"í\", \"i\"),\n",
    "        (\"ó\", \"o\"),\n",
    "        (\"ú\", \"u\"),\n",
    "    )\n",
    "def normalize_string(chain):\n",
    "    for tilde, normal in char_tildes:\n",
    "        chain = chain.replace(tilde, normal)\n",
    "    return chain.lower()\n",
    "\n",
    "normalized = normalize_string('Esdrújula')\n",
    "print(normalized)"
   ]
  },
  {
   "cell_type": "markdown",
   "metadata": {},
   "source": [
    "5. Realiza una transformación a tu lista para que ahora el primer índice nos de una columna en lugar de un renglón."
   ]
  },
  {
   "cell_type": "code",
   "execution_count": 11,
   "metadata": {},
   "outputs": [],
   "source": [
    "cols = []\n",
    "#for row in data:\n",
    "#    for index in range(len(row)):\n",
    "#        cols[index] = row\n",
    "for row in zip(*data):\n",
    "    cols.append(list(row))"
   ]
  },
  {
   "cell_type": "markdown",
   "metadata": {},
   "source": [
    "6. Una vez hecha la transformación, extrae la columna de nombres de tu data. ¿Ves algo extraño en los nombres?"
   ]
  },
  {
   "cell_type": "code",
   "execution_count": 12,
   "metadata": {},
   "outputs": [
    {
     "name": "stdout",
     "output_type": "stream",
     "text": [
      "['\\ufeffNombre', 'Blanca Teresa Ortiz', 'Verónica Morales', 'Roberto Flores', 'Patricia Pérez', 'Francisco Eduardo Torres', 'María Valdez', 'Ignacio Heriberto Rodríguez', 'Edgar Jiménez', 'Liliana Díaz', 'Rebeca Vázquez', 'Victor Kevin Flores', 'Georgina Zárate', 'Heriberto Mendoza', 'Miguel Gómez', 'Bruno Álvarez', 'Rodrigo Felipe Montes', 'Adriana Martínez', 'Luis Enrique Lazcón', 'Eduardo Treviño', 'Ramiro Treviño', 'Lucía María González', 'María Ester Cuevas', 'María Guadalupe Villarreal', 'Patricia Reyes', 'Tadeo Gutierrez', 'Nadia Rodriguez', 'Jorge Martínez ', 'Roberta Juárez', 'Kevin Omar Carranza', 'Francisco Castañeda', 'Juan Manuel Sandoval', 'Gilberto Manuel Potes', 'Felipe Torres', 'Brenda Torres', 'Julissa Vázquez']\n"
     ]
    }
   ],
   "source": [
    "names = cols[0]\n",
    "print(names)"
   ]
  },
  {
   "cell_type": "markdown",
   "metadata": {},
   "source": [
    "## Parte 2\n",
    "Mientras sigues realizando pruebas en Python caes en cuenta de que esto es mucho más difícil de lo que recordabas; los objetos de listas no son los mejores para manipular estos datos y parece que el debate regresa a Excel y Sheets pero una busqueda en google te hace recordar que existen librerías gratuitas en Python que facilitan el análisis de datos. Decides instalar Numpy y Pandas y regresar a trabajar para ahora si poder realizar un análisis de tus datos.\n",
    "\n",
    "### A partir de este punto ya podemos utilizar Numpy y Pandas, pero seguimos trabajando con el archivo Business Data.csv de forma exclusiva.\n"
   ]
  },
  {
   "cell_type": "code",
   "execution_count": 9,
   "metadata": {},
   "outputs": [],
   "source": [
    "import numpy as np\n",
    "import pandas as pd"
   ]
  },
  {
   "cell_type": "markdown",
   "metadata": {},
   "source": [
    "7. Carga la base de datos anterior de un formato a un dataframe. Ya no tienes que utilizar la lista de listas."
   ]
  },
  {
   "cell_type": "code",
   "execution_count": 10,
   "metadata": {},
   "outputs": [
    {
     "name": "stdout",
     "output_type": "stream",
     "text": [
      "                         Nombre  Edad Sexo        Area               Posición  \\\n",
      "0           Blanca Teresa Ortiz    45    F  Tecnología              Developer   \n",
      "1              Verónica Morales    44    F  Tecnología    Administrador de DB   \n",
      "2                Roberto Flores    48    M      Ventas              Marketing   \n",
      "3                Patricia Pérez    42    F      Ventas      Gerente de Ventas   \n",
      "4      Francisco Eduardo Torres    43    M  Tecnología  Gerente de Tecnología   \n",
      "5                  María Valdez    42    F      Ventas             Contaduría   \n",
      "6   Ignacio Heriberto Rodríguez    42    M      Ventas               Vendedor   \n",
      "7                 Edgar Jiménez    38    M      Ventas  Gerente de Contaduría   \n",
      "8                  Liliana Díaz    38    F  Tecnología              Developer   \n",
      "9                Rebeca Vázquez    38    F  Tecnología     Coordinación de DB   \n",
      "10          Victor Kevin Flores    37    M  Tecnología            Coordinador   \n",
      "11              Georgina Zárate    35    F      Ventas              Marketing   \n",
      "12            Heriberto Mendoza    36    M  Tecnología    Administrador de DB   \n",
      "13                 Miguel Gómez    35    M      Ventas               Vendedor   \n",
      "14                Bruno Álvarez    36    M  Tecnología               Analista   \n",
      "15        Rodrigo Felipe Montes    35    M  Tecnología              Developer   \n",
      "16             Adriana Martínez    34    F      Ventas               Vendedor   \n",
      "17          Luis Enrique Lazcón    35    M  Tecnología               Analista   \n",
      "18              Eduardo Treviño    33    M      Ventas            Coordinador   \n",
      "19               Ramiro Treviño    28    M  Tecnología              Developer   \n",
      "20         Lucía María González    26    F  Tecnología               Analista   \n",
      "21           María Ester Cuevas    33    F      Ventas            Coordinador   \n",
      "22   María Guadalupe Villarreal    29    F      Ventas               Vendedor   \n",
      "23               Patricia Reyes    26    F  Tecnología               Analista   \n",
      "24              Tadeo Gutierrez    28    M      Ventas               Vendedor   \n",
      "25              Nadia Rodriguez    25    F  Tecnología               Analista   \n",
      "26              Jorge Martínez     27    M      Ventas              Marketing   \n",
      "27               Roberta Juárez    27    F      Ventas             Contaduría   \n",
      "28          Kevin Omar Carranza    24    M  Tecnología    Administrador de DB   \n",
      "29          Francisco Castañeda    25    M      Ventas               Vendedor   \n",
      "30         Juan Manuel Sandoval    23    M  Tecnología               Analista   \n",
      "31        Gilberto Manuel Potes    21    M  Tecnología              Developer   \n",
      "32                Felipe Torres    21    M      Ventas               Vendedor   \n",
      "33                Brenda Torres    20    F  Tecnología              Developer   \n",
      "34              Julissa Vázquez    19    F      Ventas             Contaduría   \n",
      "\n",
      "    Sueldo  \n",
      "0    25000  \n",
      "1    24000  \n",
      "2    16000  \n",
      "3    40000  \n",
      "4    41000  \n",
      "5    23000  \n",
      "6     9000  \n",
      "7    35000  \n",
      "8    24000  \n",
      "9    28000  \n",
      "10   25000  \n",
      "11   16000  \n",
      "12   23000  \n",
      "13    8750  \n",
      "14   16000  \n",
      "15   23000  \n",
      "16    8750  \n",
      "17   15000  \n",
      "18   16000  \n",
      "19   22000  \n",
      "20   13750  \n",
      "21   17000  \n",
      "22    8500  \n",
      "23   13750  \n",
      "24    8300  \n",
      "25   13500  \n",
      "26   14000  \n",
      "27   18000  \n",
      "28   20000  \n",
      "29    8000  \n",
      "30   13000  \n",
      "31   20000  \n",
      "32    7500  \n",
      "33   19800  \n",
      "34   14000  \n"
     ]
    }
   ],
   "source": [
    "data = pd.read_csv('Business Data.csv')\n",
    "print(data)"
   ]
  },
  {
   "cell_type": "markdown",
   "metadata": {},
   "source": [
    "8. ¿Cuantos hombres hay en la empresa, cuantas mujeres?"
   ]
  },
  {
   "cell_type": "code",
   "execution_count": 11,
   "metadata": {},
   "outputs": [
    {
     "name": "stdout",
     "output_type": "stream",
     "text": [
      "M    19\n",
      "F    16\n",
      "Name: Sexo, dtype: int64\n"
     ]
    }
   ],
   "source": [
    "genders = data['Sexo'].value_counts()\n",
    "print(genders)"
   ]
  },
  {
   "cell_type": "markdown",
   "metadata": {},
   "source": [
    "9. ¿Cuantas áreas distintas hay en la empresa; cuantos empleados hay por área?"
   ]
  },
  {
   "cell_type": "code",
   "execution_count": 12,
   "metadata": {},
   "outputs": [
    {
     "name": "stdout",
     "output_type": "stream",
     "text": [
      "Existen 2 areas diferentes en la empresa\n",
      "Tecnología    18\n",
      "Ventas        17\n",
      "Name: Area, dtype: int64\n"
     ]
    }
   ],
   "source": [
    "areas = data['Area'].value_counts()\n",
    "areas_count = areas.count()\n",
    "print(f'Existen {areas_count} areas diferentes en la empresa')\n",
    "print(areas)"
   ]
  },
  {
   "cell_type": "markdown",
   "metadata": {},
   "source": [
    "10. ¿Como está la distribución de género en estas áreas, cuantos hombres y cuantas mujeres en cada área?"
   ]
  },
  {
   "cell_type": "code",
   "execution_count": 13,
   "metadata": {},
   "outputs": [
    {
     "name": "stdout",
     "output_type": "stream",
     "text": [
      "Area        Sexo\n",
      "Tecnología  F        8\n",
      "            M       10\n",
      "Ventas      F        8\n",
      "            M        9\n",
      "dtype: int64\n"
     ]
    }
   ],
   "source": [
    "areas_genders = data.groupby(['Area', 'Sexo']).size()\n",
    "print(areas_genders)"
   ]
  },
  {
   "cell_type": "markdown",
   "metadata": {},
   "source": [
    "11. ¿Cuantas posiciones distintas hay dentro del área de Tecnología, cuantas hay en el área de Ventas?"
   ]
  },
  {
   "cell_type": "code",
   "execution_count": 14,
   "metadata": {},
   "outputs": [
    {
     "name": "stdout",
     "output_type": "stream",
     "text": [
      "Area        Posición             \n",
      "Tecnología  Administrador de DB      3\n",
      "            Analista                 6\n",
      "            Coordinación de DB       1\n",
      "            Coordinador              1\n",
      "            Developer                6\n",
      "            Gerente de Tecnología    1\n",
      "Ventas      Contaduría               3\n",
      "            Coordinador              2\n",
      "            Gerente de Contaduría    1\n",
      "            Gerente de Ventas        1\n",
      "            Marketing                3\n",
      "            Vendedor                 7\n",
      "dtype: int64\n"
     ]
    }
   ],
   "source": [
    "areas_positions = data.groupby(['Area', 'Posición'])\n",
    "areas_positions_count = areas_positions.size()\n",
    "print(areas_positions_count)"
   ]
  },
  {
   "cell_type": "markdown",
   "metadata": {},
   "source": [
    "12. Hay alguna posición que tengan en común ventas y tecnología (que tengan exactamente el mismo nombre). ¿En caso de que si haya, cual?"
   ]
  },
  {
   "cell_type": "code",
   "execution_count": 15,
   "metadata": {},
   "outputs": [
    {
     "name": "stdout",
     "output_type": "stream",
     "text": [
      "['Coordinador']\n"
     ]
    }
   ],
   "source": [
    "areas_positions = data.groupby(['Area', 'Posición']).size()\n",
    "tecnology_labels = areas_positions.Tecnología.index\n",
    "sales_labels = areas_positions.Ventas.index\n",
    "\n",
    "print(np.intersect1d(tecnology_labels, sales_labels))"
   ]
  },
  {
   "cell_type": "markdown",
   "metadata": {},
   "source": [
    "13. ¿Cuál es el primer nombre más común en la empresa?"
   ]
  },
  {
   "cell_type": "code",
   "execution_count": 16,
   "metadata": {},
   "outputs": [
    {
     "name": "stdout",
     "output_type": "stream",
     "text": [
      "[('María', 4)]\n"
     ]
    }
   ],
   "source": [
    "from collections import Counter\n",
    "common_name = Counter(\" \".join(data[\"Nombre\"]).split()).most_common(1)\n",
    "print(common_name)"
   ]
  },
  {
   "cell_type": "markdown",
   "metadata": {},
   "source": [
    "14. Revisa nuevamente el tipo de dato que hay en cada columna; si no corresponde, entonces transformalo al que sí corresponde."
   ]
  },
  {
   "cell_type": "code",
   "execution_count": 17,
   "metadata": {},
   "outputs": [
    {
     "name": "stdout",
     "output_type": "stream",
     "text": [
      "Nombre      object\n",
      "Edad         int64\n",
      "Sexo        object\n",
      "Area        object\n",
      "Posición    object\n",
      "Sueldo       int64\n",
      "dtype: object\n",
      "Nombre      object\n",
      "Edad         int64\n",
      "Sexo        object\n",
      "Area        object\n",
      "Posición    object\n",
      "Sueldo       int64\n",
      "dtype: object\n"
     ]
    }
   ],
   "source": [
    "types = data.dtypes\n",
    "print(types)\n",
    "string_columns = ['Nombre', 'Area', 'Posición', 'Sexo']\n",
    "for col in string_columns:\n",
    "    data[col] = data[col].astype('string')\n",
    "print(types)"
   ]
  },
  {
   "cell_type": "markdown",
   "metadata": {},
   "source": [
    "15. ¿Cual es la edad promedio en la empresa, cual es el sueldo promedio?"
   ]
  },
  {
   "cell_type": "code",
   "execution_count": 18,
   "metadata": {},
   "outputs": [
    {
     "name": "stdout",
     "output_type": "stream",
     "text": [
      "La edad promedio es 32.51428571428571\n",
      "El sueldo promedio es 18502.85714285714\n"
     ]
    }
   ],
   "source": [
    "mean_age = data.Edad.mean()\n",
    "print(f'La edad promedio es {mean_age}')\n",
    "mean_salary = data.Sueldo.mean()\n",
    "print(f'El sueldo promedio es {mean_salary}')"
   ]
  },
  {
   "cell_type": "markdown",
   "metadata": {},
   "source": [
    "16. Ahora calcula el sueldo promedio por sexo.\n",
    "- ¿Cuál sexo tiene mayor sueldo y cual es la diferencia entre los sueldos?"
   ]
  },
  {
   "cell_type": "code",
   "execution_count": 27,
   "metadata": {},
   "outputs": [
    {
     "name": "stdout",
     "output_type": "stream",
     "text": [
      "Sexo\n",
      "F    19190.625000\n",
      "M    17923.684211\n",
      "Name: Sueldo, dtype: float64\n",
      "El sueldo más alto lo tienen Mujeres y es 19190.625\n",
      "La diferencia de sueldos es 1266.9407894736833\n"
     ]
    }
   ],
   "source": [
    "salary_sex = data.groupby('Sexo').Sueldo.mean()\n",
    "print(salary_sex)\n",
    "max_salary_sex = salary_sex.max()\n",
    "print(f'El sueldo más alto lo tienen {\"Mujeres\" if salary_sex.idxmax(axis = 0) == \"F\" else \"Hombres\" } y es {max_salary_sex}')\n",
    "difference = abs(salary_sex.diff())\n",
    "print(f'La diferencia de sueldos es {difference.M}')"
   ]
  },
  {
   "cell_type": "markdown",
   "metadata": {},
   "source": [
    "17. Calcula el sueldo promedio por área y el sueldo promedio por posición."
   ]
  },
  {
   "cell_type": "code",
   "execution_count": 32,
   "metadata": {},
   "outputs": [
    {
     "name": "stdout",
     "output_type": "stream",
     "text": [
      "El sueldo promedio por área es \n",
      " Area\n",
      "Tecnología    21100.000000\n",
      "Ventas        15752.941176\n",
      "Name: Sueldo, dtype: float64\n",
      "El sueldo promedio por posición es \n",
      " Posición\n",
      "Administrador de DB      22333.333333\n",
      "Analista                 14166.666667\n",
      "Contaduría               18333.333333\n",
      "Coordinación de DB       28000.000000\n",
      "Coordinador              19333.333333\n",
      "Developer                22300.000000\n",
      "Gerente de Contaduría    35000.000000\n",
      "Gerente de Tecnología    41000.000000\n",
      "Gerente de Ventas        40000.000000\n",
      "Marketing                15333.333333\n",
      "Vendedor                  8400.000000\n",
      "Name: Sueldo, dtype: float64\n"
     ]
    }
   ],
   "source": [
    "mean_salary_area = data.groupby('Area').Sueldo.mean()\n",
    "print(f'El sueldo promedio por área es \\n {mean_salary_area}')\n",
    "mean_salary_position = data.groupby('Posición').Sueldo.mean()\n",
    "print(f'El sueldo promedio por posición es \\n {mean_salary_position}')"
   ]
  },
  {
   "cell_type": "markdown",
   "metadata": {},
   "source": [
    "18. ¿En base a la información anterior, que posición dirías que tiene el menor sueldo promedio de la empresa?"
   ]
  },
  {
   "cell_type": "code",
   "execution_count": 33,
   "metadata": {},
   "outputs": [
    {
     "name": "stdout",
     "output_type": "stream",
     "text": [
      "El menor sueldo lo tiene el Vendedor\n"
     ]
    }
   ],
   "source": [
    "min_mean_salary_position = mean_salary_position.idxmin()\n",
    "print(f'El menor sueldo lo tiene el {min_mean_salary_position}')"
   ]
  },
  {
   "cell_type": "markdown",
   "metadata": {},
   "source": [
    "19. El sueldo mostrado en la base de datos es el sueldo bruto (sin quitar impuestos) mensual; calcula 3 columnas adicionales en donde muestres\n",
    "   - El sueldo bruto anual (suma 1/2 mes de sueldo como aguinaldo a los empleados)\n",
    "   - Considerando las siguientes tasas de impuestos, calcula el sueldo neto anual (sueldo descontando impuestos, te recomiendo crear una función).\n",
    "   - Una vez hecho lo anterior, crea una nueva columna de sueldo neto mensual.\n",
    "   \n",
    "   \n",
    "   s < 100,000  10%\n",
    "   \n",
    "   100,000 < s <= 125,000 13%\n",
    "   \n",
    "   125,000 < s <= 150,000 15%\n",
    "   \n",
    "   150,000 < s <= 175,000 16%\n",
    "   \n",
    "   175,000 < s <= 200,000 17%\n",
    "   \n",
    "   200,000 < s <= 250,000 19%\n",
    "   \n",
    "   300,000 < s <= 350,000 21%\n",
    "   \n",
    "   350,000 < s <= 400,000 23%\n",
    "   \n",
    "   s > 400,000 25%"
   ]
  },
  {
   "cell_type": "markdown",
   "metadata": {},
   "source": [
    "20. Ahora que tenemos los salarios netos (lo que el empleado termina recibiendo de forma mensual). ¿Como cambió el sueldo promedio por área, subió o bajó? Bajó"
   ]
  },
  {
   "cell_type": "code",
   "execution_count": 40,
   "metadata": {},
   "outputs": [
    {
     "name": "stdout",
     "output_type": "stream",
     "text": [
      "                         Nombre  Edad Sexo        Area               Posición  \\\n",
      "0           Blanca Teresa Ortiz    45    F  Tecnología              Developer   \n",
      "1              Verónica Morales    44    F  Tecnología    Administrador de DB   \n",
      "2                Roberto Flores    48    M      Ventas              Marketing   \n",
      "3                Patricia Pérez    42    F      Ventas      Gerente de Ventas   \n",
      "4      Francisco Eduardo Torres    43    M  Tecnología  Gerente de Tecnología   \n",
      "5                  María Valdez    42    F      Ventas             Contaduría   \n",
      "6   Ignacio Heriberto Rodríguez    42    M      Ventas               Vendedor   \n",
      "7                 Edgar Jiménez    38    M      Ventas  Gerente de Contaduría   \n",
      "8                  Liliana Díaz    38    F  Tecnología              Developer   \n",
      "9                Rebeca Vázquez    38    F  Tecnología     Coordinación de DB   \n",
      "10          Victor Kevin Flores    37    M  Tecnología            Coordinador   \n",
      "11              Georgina Zárate    35    F      Ventas              Marketing   \n",
      "12            Heriberto Mendoza    36    M  Tecnología    Administrador de DB   \n",
      "13                 Miguel Gómez    35    M      Ventas               Vendedor   \n",
      "14                Bruno Álvarez    36    M  Tecnología               Analista   \n",
      "15        Rodrigo Felipe Montes    35    M  Tecnología              Developer   \n",
      "16             Adriana Martínez    34    F      Ventas               Vendedor   \n",
      "17          Luis Enrique Lazcón    35    M  Tecnología               Analista   \n",
      "18              Eduardo Treviño    33    M      Ventas            Coordinador   \n",
      "19               Ramiro Treviño    28    M  Tecnología              Developer   \n",
      "20         Lucía María González    26    F  Tecnología               Analista   \n",
      "21           María Ester Cuevas    33    F      Ventas            Coordinador   \n",
      "22   María Guadalupe Villarreal    29    F      Ventas               Vendedor   \n",
      "23               Patricia Reyes    26    F  Tecnología               Analista   \n",
      "24              Tadeo Gutierrez    28    M      Ventas               Vendedor   \n",
      "25              Nadia Rodriguez    25    F  Tecnología               Analista   \n",
      "26              Jorge Martínez     27    M      Ventas              Marketing   \n",
      "27               Roberta Juárez    27    F      Ventas             Contaduría   \n",
      "28          Kevin Omar Carranza    24    M  Tecnología    Administrador de DB   \n",
      "29          Francisco Castañeda    25    M      Ventas               Vendedor   \n",
      "30         Juan Manuel Sandoval    23    M  Tecnología               Analista   \n",
      "31        Gilberto Manuel Potes    21    M  Tecnología              Developer   \n",
      "32                Felipe Torres    21    M      Ventas               Vendedor   \n",
      "33                Brenda Torres    20    F  Tecnología              Developer   \n",
      "34              Julissa Vázquez    19    F      Ventas             Contaduría   \n",
      "\n",
      "    Sueldo  BrutoAnual  NetoAnual   NetoMensual  \n",
      "0    25000    312500.0  240625.00  20052.083333  \n",
      "1    24000    300000.0  237000.00  19750.000000  \n",
      "2    16000    200000.0  166000.00  13833.333333  \n",
      "3    40000    500000.0  365000.00  30416.666667  \n",
      "4    41000    512500.0  374125.00  31177.083333  \n",
      "5    23000    287500.0  227125.00  18927.083333  \n",
      "6     9000    112500.0   97875.00   8156.250000  \n",
      "7    35000    437500.0  319375.00  26614.583333  \n",
      "8    24000    300000.0  237000.00  19750.000000  \n",
      "9    28000    350000.0  269500.00  22458.333333  \n",
      "10   25000    312500.0  240625.00  20052.083333  \n",
      "11   16000    200000.0  166000.00  13833.333333  \n",
      "12   23000    287500.0  227125.00  18927.083333  \n",
      "13    8750    109375.0   95156.25   7929.687500  \n",
      "14   16000    200000.0  166000.00  13833.333333  \n",
      "15   23000    287500.0  227125.00  18927.083333  \n",
      "16    8750    109375.0   95156.25   7929.687500  \n",
      "17   15000    187500.0  155625.00  12968.750000  \n",
      "18   16000    200000.0  166000.00  13833.333333  \n",
      "19   22000    275000.0  217250.00  18104.166667  \n",
      "20   13750    171875.0  144375.00  12031.250000  \n",
      "21   17000    212500.0  172125.00  14343.750000  \n",
      "22    8500    106250.0   92437.50   7703.125000  \n",
      "23   13750    171875.0  144375.00  12031.250000  \n",
      "24    8300    103750.0   90262.50   7521.875000  \n",
      "25   13500    168750.0  141750.00  11812.500000  \n",
      "26   14000    175000.0  147000.00  12250.000000  \n",
      "27   18000    225000.0  182250.00  15187.500000  \n",
      "28   20000    250000.0  202500.00  16875.000000  \n",
      "29    8000    100000.0   90000.00   7500.000000  \n",
      "30   13000    162500.0  136500.00  11375.000000  \n",
      "31   20000    250000.0  202500.00  16875.000000  \n",
      "32    7500     93750.0   84375.00   7031.250000  \n",
      "33   19800    247500.0  200475.00  16706.250000  \n",
      "34   14000    175000.0  147000.00  12250.000000  \n"
     ]
    }
   ],
   "source": [
    "def calc_discount(salary):\n",
    "    # Default value is 10%\n",
    "    percentage = 0.1\n",
    "    if salary <= 100000:\n",
    "        percentage = 0.1\n",
    "    if 100000 < salary and salary <= 125000:\n",
    "        percentage = 0.13\n",
    "    if 125000 < salary and salary <= 150000:\n",
    "        percentage = 0.15\n",
    "    if 150000 < salary and salary <= 175000:\n",
    "        percentage = 0.16\n",
    "    if 175000 < salary and salary <= 200000:\n",
    "        percentage = 0.17\n",
    "    if 200000 < salary and salary <= 250000:\n",
    "        percentage = 0.19\n",
    "    if 250000 < salary and salary <= 300000:\n",
    "        percentage = 0.21\n",
    "    if 300000 < salary and salary <= 350000:\n",
    "        percentage = 0.23\n",
    "    if 350000 < salary and salary <= 400000:\n",
    "        percentage = 0.25\n",
    "    if salary > 400000:\n",
    "        percentage = 0.27\n",
    "    return 1 - percentage\n",
    "    \n",
    "data['BrutoAnual'] = data.Sueldo * 12.5\n",
    "\n",
    "yearly_net = lambda employe: employe.BrutoAnual * calc_discount(employe.BrutoAnual)\n",
    "data['NetoAnual'] = data.apply(yearly_net, axis = 1) \n",
    "\n",
    "data['NetoMensual'] = data.NetoAnual / 12\n",
    "print(data)"
   ]
  },
  {
   "cell_type": "code",
   "execution_count": 27,
   "metadata": {},
   "outputs": [
    {
     "name": "stdout",
     "output_type": "stream",
     "text": [
      "El sueldo neto promedio por área es\n",
      "Area\n",
      "Tecnología    17428.12500\n",
      "Ventas        13250.67402\n",
      "Name: NetoMensual, dtype: float64\n",
      "El sueldo bruto promedio por área es\n",
      "Area\n",
      "Tecnología    21100.000000\n",
      "Ventas        15752.941176\n",
      "Name: Sueldo, dtype: float64\n"
     ]
    }
   ],
   "source": [
    "mean_net_salary_area = data.groupby('Area').NetoMensual.mean()\n",
    "print(f'El sueldo neto promedio por área es')\n",
    "print(mean_net_salary_area)\n",
    "\n",
    "mean_brute_salary_area = data.groupby('Area').Sueldo.mean()\n",
    "print(f'El sueldo bruto promedio por área es')\n",
    "print(mean_brute_salary_area)\n"
   ]
  },
  {
   "cell_type": "markdown",
   "metadata": {},
   "source": [
    "## Parte 3\n",
    "Después de realizar tu análisis te comienzas a sentir con más tranquilidad; has podido calcular varios estadísticos relevantes para los empleados pero quieres poner tus habilidades a prueba. Vas con la gente encargada de la base de datos y les pides los archivos csv del departamento de ventas y decides realizar tu primer análisis exploratorio de datos de la empresa.\n",
    "\n",
    "## A partir de este punto va a ser necesario usar los archivos csv restantes.\n",
    "\n",
    "Los datos de transacciones representan todas las compras realizadas por los clientes en el último mes; en este caso tenemos los archivos Customer, Invoice, Product, Purchases y SellersID para que ustedes puedan tener información específica acerca de las compras."
   ]
  },
  {
   "cell_type": "markdown",
   "metadata": {},
   "source": [
    "21. ¿Cuantos clientes tiene la empresa en total; cuantos clientes tiene asignado cada vendedor?"
   ]
  },
  {
   "cell_type": "code",
   "execution_count": 45,
   "metadata": {},
   "outputs": [
    {
     "name": "stdout",
     "output_type": "stream",
     "text": [
      "La cantidad de clientes úncos es: 77\n",
      "Los clientes agrupados por vendedor son: \n",
      "Vendedor\n",
      "V0001     9\n",
      "V0002    13\n",
      "V0003    13\n",
      "V0004    10\n",
      "V0005     4\n",
      "V0006    16\n",
      "V0007    12\n",
      "dtype: int64\n"
     ]
    }
   ],
   "source": [
    "import numpy as np\n",
    "import pandas as pd\n",
    "customers = pd.read_csv('Customer.csv')\n",
    "unique_customers = customers.Cliente.nunique()\n",
    "print(f'La cantidad de clientes úncos es: {unique_customers}')\n",
    "#print(customers)\n",
    "customers_by_seller = customers.groupby('Vendedor').size()\n",
    "print(f'Los clientes agrupados por vendedor son: \\n{customers_by_seller}')"
   ]
  },
  {
   "cell_type": "markdown",
   "metadata": {},
   "source": [
    "22. ¿Cuál es el número total de transacciones? Muestra cuantas compras ha realizado cada cliente."
   ]
  },
  {
   "cell_type": "code",
   "execution_count": 46,
   "metadata": {},
   "outputs": [
    {
     "name": "stdout",
     "output_type": "stream",
     "text": [
      "El número todal de transacciones es 950\n",
      "Las ventas por cliente son \n",
      "Cliente\n",
      "C0001    10\n",
      "C0002    13\n",
      "C0003     9\n",
      "C0004    14\n",
      "C0005    10\n",
      "         ..\n",
      "C0073     9\n",
      "C0074     8\n",
      "C0075     8\n",
      "C0076    14\n",
      "C0077    17\n",
      "Length: 77, dtype: int64\n"
     ]
    }
   ],
   "source": [
    "purchases = pd.read_csv('Purchases.csv')\n",
    "total_purchases = purchases.Factura.nunique()\n",
    "print(f'El número todal de transacciones es {total_purchases}')\n",
    "purchases_by_customer = purchases.groupby('Cliente')\n",
    "print(f'Las ventas por cliente son ')\n",
    "print(purchases_by_customer.size())"
   ]
  },
  {
   "cell_type": "markdown",
   "metadata": {},
   "source": [
    "23. ¿Cuanto dinero ha gastado cada cliente en total?"
   ]
  },
  {
   "cell_type": "code",
   "execution_count": 50,
   "metadata": {},
   "outputs": [
    {
     "name": "stdout",
     "output_type": "stream",
     "text": [
      "                    Cantidad   Precio  Subtotal    Ganancia\n",
      "Cliente Porcentaje                                         \n",
      "C0001   0.23              84  5004.90  42041.16   9669.4668\n",
      "        0.27              45  1811.70   8152.65   2201.2155\n",
      "        0.32             161  2999.90  48298.39  15455.4848\n",
      "        0.37             104   991.50  10311.60   3815.2920\n",
      "        0.41             157  1335.00  20959.50   8593.3950\n",
      "...                      ...      ...       ...         ...\n",
      "C0077   0.23             140  8508.33  70068.60  16115.7780\n",
      "        0.27              82  3079.89  14855.94   4011.1038\n",
      "        0.32             255  5099.83  76497.45  24479.1840\n",
      "        0.37             202  1685.55  20028.30   7410.4710\n",
      "        0.41             209  2269.50  27901.50  11439.6150\n",
      "\n",
      "[385 rows x 4 columns]\n"
     ]
    }
   ],
   "source": [
    "invoices = pd.read_csv('Invoice.csv')\n",
    "products = pd.read_csv('Product.csv')\n",
    "products.rename(columns = {'Porcentaje de Ganancia':'Porcentaje'}, inplace = True) \n",
    "invoices = pd.merge(invoices, purchases, on='Factura')\n",
    "invoices = pd.merge(invoices, products, on='Producto')\n",
    "\n",
    "invoices['Subtotal'] = invoices.Precio * invoices.Cantidad\n",
    "invoices['Ganancia'] = invoices.Subtotal * invoices.Porcentaje\n",
    "totals = invoices.groupby(['Cliente', 'Porcentaje']).sum()\n",
    "print(totals)"
   ]
  },
  {
   "cell_type": "markdown",
   "metadata": {},
   "source": [
    "24. ¿Cuantas veces se ha vendido cada tipo de producto? "
   ]
  },
  {
   "cell_type": "code",
   "execution_count": 31,
   "metadata": {},
   "outputs": [
    {
     "name": "stdout",
     "output_type": "stream",
     "text": [
      "                       Cantidad    Precio    Subtotal      Ganancia\n",
      "Producto   Porcentaje                                              \n",
      "Producto 1 0.32           14439  284990.5  4331555.61  1.386098e+06\n",
      "Producto 2 0.27            4806  172111.5   870703.02  2.350898e+05\n",
      "Producto 3 0.23            7622  475465.5  3814734.78  8.773890e+05\n",
      "Producto 4 0.41           12306  126825.0  1642851.00  6.735689e+05\n",
      "Producto 5 0.37           11320   94192.5  1122378.00  4.152799e+05\n"
     ]
    }
   ],
   "source": [
    "products_sold = invoices.groupby(['Producto', 'Porcentaje']).sum()\n",
    "print(products_sold)"
   ]
  },
  {
   "cell_type": "markdown",
   "metadata": {},
   "source": [
    "25. ¿Cuanto dinero ha generado cada vendedor? Ordena a los vendedores en orden de ganancias generadas."
   ]
  },
  {
   "cell_type": "code",
   "execution_count": 60,
   "metadata": {},
   "outputs": [
    {
     "name": "stdout",
     "output_type": "stream",
     "text": [
      "  Vendedor                       Nombre  Edad  Sueldo  Cantidad    Precio  \\\n",
      "4    V0005              Tadeo Gutierrez    28    8300      2831   65572.2   \n",
      "3    V0004   María Guadalupe Villarreal    29    8500      6080  139644.5   \n",
      "0    V0001  Ignacio Heriberto Rodríguez    42    9000      6828  154216.1   \n",
      "6    V0007                Felipe Torres    21    7500      7785  177287.8   \n",
      "2    V0003             Adriana Martínez    34    8750      8359  189430.8   \n",
      "1    V0002                 Miguel Gómez    35    8750      8713  200359.5   \n",
      "5    V0006          Francisco Castañeda    25    8000      9897  227074.1   \n",
      "\n",
      "     Subtotal     Ganancia  BrutoAnual  NetoAnual  NetoMensual  \n",
      "4   654511.75  199395.3443    103750.0   90262.50    7521.8750  \n",
      "3  1432053.93  433701.6270    106250.0   92437.50    7703.1250  \n",
      "0  1577474.32  481779.0539    112500.0   97875.00    8156.2500  \n",
      "6  1820390.67  553733.5395     93750.0   84375.00    7031.2500  \n",
      "2  1953614.17  594056.7998    109375.0   95156.25    7929.6875  \n",
      "1  2032595.46  620109.3882    109375.0   95156.25    7929.6875  \n",
      "5  2311582.11  704649.6273    100000.0   90000.00    7500.0000  \n"
     ]
    }
   ],
   "source": [
    "sellers = pd.read_csv('SellersID.csv')\n",
    "sales_by_seller = pd.merge(totals, customers,on='Cliente')\n",
    "sales_by_seller = pd.merge(sales_by_seller, sellers, left_on='Vendedor',right_on='id')\n",
    "sales_by_seller = sales_by_seller.groupby(['Vendedor','Nombre', 'Edad', 'Sueldo'], as_index=False).sum()\n",
    "sales_by_seller = sales_by_seller.sort_values(by=['Subtotal','Ganancia'])\n",
    "\n",
    "sales_by_seller['BrutoAnual'] = sales_by_seller.Sueldo * 12.5\n",
    "\n",
    "sales_by_seller['NetoAnual'] = sales_by_seller.apply(yearly_net, axis = 1) \n",
    "\n",
    "sales_by_seller['NetoMensual'] = sales_by_seller.NetoAnual / 12\n",
    "\n",
    "print(sales_by_seller)"
   ]
  },
  {
   "cell_type": "markdown",
   "metadata": {},
   "source": [
    "26. ¿Quien fue el mejor vendor, quien fue el peor?"
   ]
  },
  {
   "cell_type": "code",
   "execution_count": 56,
   "metadata": {},
   "outputs": [
    {
     "name": "stdout",
     "output_type": "stream",
     "text": [
      "El mejor vendedor fue Francisco Castañeda\n",
      "El peor vendedor fue Tadeo Gutierrez\n"
     ]
    }
   ],
   "source": [
    "best_seller = sales_by_seller.loc[sales_by_seller.Subtotal.idxmax()]['Nombre']\n",
    "print(f'El mejor vendedor fue {best_seller}')\n",
    "worst_seller =  sales_by_seller.loc[sales_by_seller.Subtotal.idxmin()]\n",
    "worst_seller_name = worst_seller['Nombre']\n",
    "print(f'El peor vendedor fue {worst_seller_name}')"
   ]
  },
  {
   "cell_type": "markdown",
   "metadata": {},
   "source": [
    "27. El archivo de ventas representan las ventas realizadas en el mes; considerando las ganancias y asumiendo que los únicos gastos son los de producción y el pago de sueldos.\n",
    "- ¿De cuanto fue la ganancia o perdida mensual de la empresa?"
   ]
  },
  {
   "cell_type": "code",
   "execution_count": 57,
   "metadata": {},
   "outputs": [
    {
     "name": "stdout",
     "output_type": "stream",
     "text": [
      "El total final del mes es: 3528625.38\n",
      "Ganancia\n"
     ]
    }
   ],
   "source": [
    "subtotal = sales_by_seller.Ganancia.sum()\n",
    "#salaries = sales_by_seller['Sueldo']\n",
    "salaries = sales_by_seller.Sueldo.sum()\n",
    "profit = subtotal - salaries\n",
    "print(f'El total final del mes es: {profit}')\n",
    "if (profit < 0):\n",
    "    print('Perdida')\n",
    "else:\n",
    "    print('Ganancia')"
   ]
  },
  {
   "cell_type": "markdown",
   "metadata": {},
   "source": [
    "28. ¿Asumamos que corremos al vendedor de menor desempeño; cuanto cambia la ganancia o la perdida mensual?"
   ]
  },
  {
   "cell_type": "code",
   "execution_count": 58,
   "metadata": {},
   "outputs": [
    {
     "name": "stdout",
     "output_type": "stream",
     "text": [
      "La ganancia mensual tendría un cambio de -191873.4693 y sería de 3336751.9107\n"
     ]
    }
   ],
   "source": [
    "new_profit = profit + worst_seller['NetoMensual'] - worst_seller['Ganancia']\n",
    "profits_difference = new_profit - profit\n",
    "print(f'La ganancia mensual tendría un cambio de {profits_difference} y sería de {new_profit}')"
   ]
  },
  {
   "cell_type": "markdown",
   "metadata": {},
   "source": [
    "29. ¿Este resultado les llamó la atención? Expliquen por qué y sugieran un cambio que realizarían si es que aplica."
   ]
  },
  {
   "cell_type": "code",
   "execution_count": 59,
   "metadata": {},
   "outputs": [],
   "source": [
    "#Sí me llamó la atención, puesto que a pesar de que el vendedor tiene un rendimiento bajo, si se despide\n",
    "#tendríamos mayor pérdida a que si sigue trabajando. "
   ]
  },
  {
   "cell_type": "markdown",
   "metadata": {},
   "source": [
    "# Parte 4\n",
    "Después de cruzar tantas tablas y combinarlas una con otra vas con tu jefe y le presentas estos resultados; al inicio toma tu palabra con mucho escepticismo ya que no está muy familiarizado con Python pero al ver los resultados que presentas y al saber que la herramienta es gratuita menciona que está muy abierto a la posibilidad de implementar Python como la herramienta central del departamento de analistas. Te sientes satisfecho con tu labor aunque piensas que a lo mejor después le tienes que comentar que aunque Python es gratuito y poderoso alguna otra herramienta estadística o de BI nunca le ha hecho daño a nadie. Regresas a tu lugar de trabajo y antes de que te des cuenta te pones a pensar acerca del funcionamiento de tu base de datos; tomas una hoja de papel y te pones a escribir.\n",
    "\n",
    "### Sección Teórica\n",
    "\n",
    "La siguiente sección son una colección de preguntas teóricas; es decir, no tienes que programar para ello pero es necesario tener conocimiento de fondo. Toda la sección involucra temáticas de la semana de webscrapping y modelo de datos con un mayor énfasis en la parte de modelo de datos."
   ]
  },
  {
   "cell_type": "markdown",
   "metadata": {},
   "source": [
    "30. Analizando los datos que tenemos; plantea cuales son las entidades existentes."
   ]
  },
  {
   "cell_type": "code",
   "execution_count": null,
   "metadata": {},
   "outputs": [],
   "source": [
    "Las entidades existentes son: Customer, Seller, Purchase, Invoice, Product."
   ]
  },
  {
   "cell_type": "markdown",
   "metadata": {},
   "source": [
    "31. Por ahora solo nos vamos a enfocar en vendedores; en las entidades definidas escribe las propiedades de cada entidad.\n",
    "32. Para cada entidad con sus propiedades escritas; marca (si aplica) las llaves primarias y las llaves foraneas."
   ]
  },
  {
   "cell_type": "code",
   "execution_count": 43,
   "metadata": {},
   "outputs": [
    {
     "data": {
      "text/html": [
       "<img src='images/entities2.png'>\n"
      ],
      "text/plain": [
       "<IPython.core.display.HTML object>"
      ]
     },
     "metadata": {},
     "output_type": "display_data"
    }
   ],
   "source": [
    "%%html\n",
    "<img src='images/entities2.png'>"
   ]
  },
  {
   "cell_type": "markdown",
   "metadata": {},
   "source": [
    "33. Ahora recuerda las relaciones; identifica las relaciones one to one, one to many y many to many en esta base de datos."
   ]
  },
  {
   "cell_type": "code",
   "execution_count": 47,
   "metadata": {},
   "outputs": [
    {
     "data": {
      "text/html": [
       "<img src='images/relations.png'>\n",
       "<h2>Las relaciones son</h2>\n",
       "<ul>\n",
       "    <li>One to One: Invoice/Product, Invoice/Purchase, Customer/Purchase </li>\n",
       "    <li>One to Many: Seller/Customer </li>\n",
       "    <li>Many to Many: Customer/Invoice </li>\n",
       "</ul>\n"
      ],
      "text/plain": [
       "<IPython.core.display.HTML object>"
      ]
     },
     "metadata": {},
     "output_type": "display_data"
    }
   ],
   "source": [
    "%%html\n",
    "<img src='images/relations.png'>\n",
    "<h2>Las relaciones son</h2>\n",
    "<ul>\n",
    "    <li>One to One: Invoice/Product, Invoice/Purchase, Customer/Purchase </li>\n",
    "    <li>One to Many: Seller/Customer </li>\n",
    "    <li>Many to Many: Customer/Invoice </li>\n",
    "</ul>"
   ]
  },
  {
   "cell_type": "markdown",
   "metadata": {},
   "source": [
    "34. Con las propiedades derivadas; escribe el tipo de datos correspondiente a cada propiedad."
   ]
  },
  {
   "cell_type": "code",
   "execution_count": 48,
   "metadata": {},
   "outputs": [
    {
     "data": {
      "text/html": [
       "<img src='images/types.png'>\n"
      ],
      "text/plain": [
       "<IPython.core.display.HTML object>"
      ]
     },
     "metadata": {},
     "output_type": "display_data"
    }
   ],
   "source": [
    "%%html\n",
    "<img src='images/types.png'>"
   ]
  },
  {
   "cell_type": "markdown",
   "metadata": {},
   "source": [
    "35. Con todo esto en mente; menciona alguna propiedad importante que puedes agregar a esta base de datos para sacarle más jugo a la data y menciona la entidad a la que pertenece."
   ]
  },
  {
   "cell_type": "code",
   "execution_count": null,
   "metadata": {},
   "outputs": [],
   "source": [
    "# Tablas de áreas y posiciones. Ciudad/Estado de los clientes (Para saber en qué lugar están comprando más.   "
   ]
  },
  {
   "cell_type": "markdown",
   "metadata": {},
   "source": [
    "36. Con esa propiedad menciona al menos una métrica relevante que puedes calcular y como esta puede terminar ayudando al negocio."
   ]
  },
  {
   "cell_type": "code",
   "execution_count": null,
   "metadata": {},
   "outputs": [],
   "source": [
    "# Máximo, Mínimo, para saber dónde se compran más los productos y dónde menos."
   ]
  }
 ],
 "metadata": {
  "kernelspec": {
   "display_name": "Python 3",
   "language": "python",
   "name": "python3"
  },
  "language_info": {
   "codemirror_mode": {
    "name": "ipython",
    "version": 3
   },
   "file_extension": ".py",
   "mimetype": "text/x-python",
   "name": "python",
   "nbconvert_exporter": "python",
   "pygments_lexer": "ipython3",
   "version": "3.7.6"
  }
 },
 "nbformat": 4,
 "nbformat_minor": 4
}
